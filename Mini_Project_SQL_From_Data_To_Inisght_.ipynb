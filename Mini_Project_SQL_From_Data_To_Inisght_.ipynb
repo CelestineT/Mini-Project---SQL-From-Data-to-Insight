{
 "cells": [
  {
   "cell_type": "code",
   "execution_count": null,
   "id": "cc490c09-2875-496d-bb86-496087fd2042",
   "metadata": {},
   "outputs": [
    {
     "name": "stderr",
     "output_type": "stream",
     "text": [
      "<>:4: SyntaxWarning: invalid escape sequence '\\R'\n",
      "<>:5: SyntaxWarning: invalid escape sequence '\\R'\n",
      "<>:6: SyntaxWarning: invalid escape sequence '\\R'\n",
      "<>:4: SyntaxWarning: invalid escape sequence '\\R'\n",
      "<>:5: SyntaxWarning: invalid escape sequence '\\R'\n",
      "<>:6: SyntaxWarning: invalid escape sequence '\\R'\n",
      "C:\\Users\\Santi\\AppData\\Local\\Temp\\ipykernel_8092\\331796413.py:4: SyntaxWarning: invalid escape sequence '\\R'\n",
      "  Brooklyn_property_sales_file_path = 'Data\\Raw\\Brooklyn_2019.csv'\n",
      "C:\\Users\\Santi\\AppData\\Local\\Temp\\ipykernel_8092\\331796413.py:5: SyntaxWarning: invalid escape sequence '\\R'\n",
      "  Manhattan_property_sales_file_path = 'Data\\Raw\\Manhattan_2019.csv'\n",
      "C:\\Users\\Santi\\AppData\\Local\\Temp\\ipykernel_8092\\331796413.py:6: SyntaxWarning: invalid escape sequence '\\R'\n",
      "  airbnb_file_path = 'Data\\Raw\\AB_NYC_2019.csv'\n"
     ]
    },
    {
     "name": "stdout",
     "output_type": "stream",
     "text": [
      "Dataset Airbnb\n"
     ]
    }
   ],
   "source": [
    "import pandas as pd\n",
    "from sklearn.preprocessing import StandardScaler\n",
    "import seaborn as sns\n",
    "import matplotlib.pyplot as plt\n",
    "\n",
    "Brooklyn_property_sales_file_path = r'Data\\Raw\\Brooklyn_2019.csv'\n",
    "Manhattan_property_sales_file_path = r'Data\\Raw\\Manhattan_2019.csv'\n",
    "airbnb_file_path = r'Data\\Raw\\AB_NYC_2019.csv'\n",
    "\n",
    "# Loading the Airbnb dataset\n",
    "df_airbnb = pd.read_csv(airbnb_file_path, encoding='utf-8')\n",
    "print(\"Dataset Airbnb\")"
   ]
  },
  {
   "cell_type": "code",
   "execution_count": 2,
   "id": "c68e5777-e670-4756-9049-dcb9c8d8e325",
   "metadata": {},
   "outputs": [
    {
     "name": "stdout",
     "output_type": "stream",
     "text": [
      "   Borough   Neighborhood    Building Class Category  \\\n",
      "0        1  ALPHABET CITY    01 ONE FAMILY DWELLINGS   \n",
      "1        1  ALPHABET CITY    01 ONE FAMILY DWELLINGS   \n",
      "2        1  ALPHABET CITY    02 TWO FAMILY DWELLINGS   \n",
      "3        1  ALPHABET CITY  03 THREE FAMILY DWELLINGS   \n",
      "4        1  ALPHABET CITY  03 THREE FAMILY DWELLINGS   \n",
      "\n",
      "  Tax Class As Of Final Roll 18/1  Block  Lot  Ease-Ment  \\\n",
      "0                               1    376   43        NaN   \n",
      "1                               1    390   61        NaN   \n",
      "2                               1    404    1        NaN   \n",
      "3                               1    377   56        NaN   \n",
      "4                               1    393    9        NaN   \n",
      "\n",
      "  Building Class As Of Final Roll 18/1               Address Apartment Number  \\\n",
      "0                                   S1   743 EAST 6TH STREET              NaN   \n",
      "1                                   A4   189 EAST 7TH STREET              NaN   \n",
      "2                                   B9          166 AVENUE A              NaN   \n",
      "3                                   C0   263 EAST 7TH STREET              NaN   \n",
      "4                                   C0  604 EAST 11TH STREET              NaN   \n",
      "\n",
      "   ...  Residential Units  Commercial Units  Total Units  Land Square Feet  \\\n",
      "0  ...                1.0               1.0          2.0            2090.0   \n",
      "1  ...                1.0               0.0          1.0             987.0   \n",
      "2  ...                2.0               0.0          2.0            1510.0   \n",
      "3  ...                3.0               0.0          3.0            2430.0   \n",
      "4  ...                3.0               0.0          3.0            2375.0   \n",
      "\n",
      "   Gross Square Feet  Year Built  Tax Class At Time Of Sale  \\\n",
      "0             3680.0      1940.0                          1   \n",
      "1             2183.0      1860.0                          1   \n",
      "2             4520.0      1900.0                          1   \n",
      "3             3600.0      1899.0                          1   \n",
      "4             5110.0      1939.0                          1   \n",
      "\n",
      "   Building Class At Time Of Sale Sale Price            Sale Date  \n",
      "0                              S1    3200000  2019-07-24 00:00:00  \n",
      "1                              A4          0  2019-09-25 00:00:00  \n",
      "2                              B9          0  2019-07-22 00:00:00  \n",
      "3                              C0    6300000  2019-04-30 00:00:00  \n",
      "4                              C0          0  2019-10-24 00:00:00  \n",
      "\n",
      "[5 rows x 21 columns]\n"
     ]
    }
   ],
   "source": [
    "# Display the first 5 lines\n",
    "df_Manhattan_Property_Sales = pd.read_csv(Manhattan_property_sales_file_path, encoding='utf-8')\n",
    "print(df_Manhattan_Property_Sales.head())"
   ]
  },
  {
   "cell_type": "code",
   "execution_count": 3,
   "id": "32933a0c-6a2f-4844-820d-9eaaa8e521ff",
   "metadata": {},
   "outputs": [
    {
     "name": "stdout",
     "output_type": "stream",
     "text": [
      "Brooklyn Property Sales\n"
     ]
    }
   ],
   "source": [
    "# Loading the Brooklyn Property Sales dataset\n",
    "df_Brooklyn_Property_Sales = pd.read_csv(Brooklyn_property_sales_file_path, encoding='utf-8')\n",
    "print(\"Brooklyn Property Sales\")\n"
   ]
  },
  {
   "cell_type": "code",
   "execution_count": 9,
   "id": "c715627c-340f-4e05-b4cb-5ebdd9131d2b",
   "metadata": {},
   "outputs": [
    {
     "name": "stdout",
     "output_type": "stream",
     "text": [
      "   Borough Neighborhood  Building Class Category Tax Class At Present   Block  \\\n",
      "0      3.0   BATH BEACH  01 ONE FAMILY DWELLINGS                    1  6363.0   \n",
      "1      3.0   BATH BEACH  01 ONE FAMILY DWELLINGS                    1  6363.0   \n",
      "2      3.0   BATH BEACH  01 ONE FAMILY DWELLINGS                    1  6363.0   \n",
      "3      3.0   BATH BEACH  01 ONE FAMILY DWELLINGS                    1  6364.0   \n",
      "4      3.0   BATH BEACH  01 ONE FAMILY DWELLINGS                    1  6367.0   \n",
      "\n",
      "    Lot  Ease-Ment Building Class At Present             Address  \\\n",
      "0  22.0        NaN                        A9    8645 16TH AVENUE   \n",
      "1  48.0        NaN                        A9  12 BAY 13TH STREET   \n",
      "2  48.0        NaN                        A9  12 BAY 13TH STREET   \n",
      "3  74.0        NaN                        A5  72 BAY 14TH STREET   \n",
      "4  42.0        NaN                        S1    1730 86TH STREET   \n",
      "\n",
      "  Apartment Number  ...  Residential Units  Commercial Units  Total Units  \\\n",
      "0              NaN  ...                1.0               0.0          1.0   \n",
      "1              NaN  ...                1.0               0.0          1.0   \n",
      "2              NaN  ...                1.0               0.0          1.0   \n",
      "3              NaN  ...                1.0               0.0          1.0   \n",
      "4              NaN  ...                1.0               1.0          2.0   \n",
      "\n",
      "   Land Square Feet  Gross Square Feet  Year Built  Tax Class At Time Of Sale  \\\n",
      "0            2058.0             1492.0      1930.0                        1.0   \n",
      "1            3142.0             3200.0      1999.0                        1.0   \n",
      "2            3142.0             3200.0      1999.0                        1.0   \n",
      "3            2492.0              972.0      1950.0                        1.0   \n",
      "4            1342.0             1920.0      1926.0                        1.0   \n",
      "\n",
      "   Building Class At Time Of Sale Sale Price            Sale Date  \n",
      "0                              A9        0.0  2019-04-23 00:00:00  \n",
      "1                              A9        0.0  2019-02-27 00:00:00  \n",
      "2                              A9        0.0  2019-02-11 00:00:00  \n",
      "3                              A5        0.0  2019-08-15 00:00:00  \n",
      "4                              S1  1630000.0  2019-02-08 00:00:00  \n",
      "\n",
      "[5 rows x 21 columns]\n"
     ]
    }
   ],
   "source": [
    "# Display the first 5 lines\n",
    "df_Brooklyn_Property_Sales = pd.read_csv(Brooklyn_property_sales_file_path, encoding='utf-8')\n",
    "print(df_Brooklyn_Property_Sales.head())"
   ]
  },
  {
   "cell_type": "code",
   "execution_count": 59,
   "id": "023664af-053e-4a9a-9640-faba464bf667",
   "metadata": {},
   "outputs": [
    {
     "name": "stdout",
     "output_type": "stream",
     "text": [
      "\n",
      "--- Initial inspection of the Airbnb dataset ---\n",
      "First Lines :\n",
      "\n",
      "Information on columns and data types :\n",
      "<class 'pandas.core.frame.DataFrame'>\n",
      "RangeIndex: 48895 entries, 0 to 48894\n",
      "Data columns (total 16 columns):\n",
      " #   Column                          Non-Null Count  Dtype  \n",
      "---  ------                          --------------  -----  \n",
      " 0   id                              48895 non-null  int64  \n",
      " 1   name                            48879 non-null  object \n",
      " 2   host_id                         48895 non-null  int64  \n",
      " 3   host_name                       48874 non-null  object \n",
      " 4   neighbourhood_group             48895 non-null  object \n",
      " 5   neighbourhood                   48895 non-null  object \n",
      " 6   latitude                        48895 non-null  float64\n",
      " 7   longitude                       48895 non-null  float64\n",
      " 8   room_type                       48895 non-null  object \n",
      " 9   price                           48895 non-null  int64  \n",
      " 10  minimum_nights                  48895 non-null  int64  \n",
      " 11  number_of_reviews               48895 non-null  int64  \n",
      " 12  last_review                     38843 non-null  object \n",
      " 13  reviews_per_month               38843 non-null  float64\n",
      " 14  calculated_host_listings_count  48895 non-null  int64  \n",
      " 15  availability_365                48895 non-null  int64  \n",
      "dtypes: float64(3), int64(7), object(6)\n",
      "memory usage: 6.0+ MB\n",
      "\n",
      "Descriptive statistics :\n",
      "                 id       host_id      latitude     longitude         price  \\\n",
      "count  4.889500e+04  4.889500e+04  48895.000000  48895.000000  48895.000000   \n",
      "mean   1.901714e+07  6.762001e+07     40.728949    -73.952170    152.720687   \n",
      "std    1.098311e+07  7.861097e+07      0.054530      0.046157    240.154170   \n",
      "min    2.539000e+03  2.438000e+03     40.499790    -74.244420      0.000000   \n",
      "25%    9.471945e+06  7.822033e+06     40.690100    -73.983070     69.000000   \n",
      "50%    1.967728e+07  3.079382e+07     40.723070    -73.955680    106.000000   \n",
      "75%    2.915218e+07  1.074344e+08     40.763115    -73.936275    175.000000   \n",
      "max    3.648724e+07  2.743213e+08     40.913060    -73.712990  10000.000000   \n",
      "\n",
      "       minimum_nights  number_of_reviews  reviews_per_month  \\\n",
      "count    48895.000000       48895.000000       38843.000000   \n",
      "mean         7.029962          23.274466           1.373221   \n",
      "std         20.510550          44.550582           1.680442   \n",
      "min          1.000000           0.000000           0.010000   \n",
      "25%          1.000000           1.000000           0.190000   \n",
      "50%          3.000000           5.000000           0.720000   \n",
      "75%          5.000000          24.000000           2.020000   \n",
      "max       1250.000000         629.000000          58.500000   \n",
      "\n",
      "       calculated_host_listings_count  availability_365  \n",
      "count                    48895.000000      48895.000000  \n",
      "mean                         7.143982        112.781327  \n",
      "std                         32.952519        131.622289  \n",
      "min                          1.000000          0.000000  \n",
      "25%                          1.000000          0.000000  \n",
      "50%                          1.000000         45.000000  \n",
      "75%                          2.000000        227.000000  \n",
      "max                        327.000000        365.000000  \n",
      "\n",
      "Number of missing values per column :\n",
      "id                                    0\n",
      "name                                 16\n",
      "host_id                               0\n",
      "host_name                            21\n",
      "neighbourhood_group                   0\n",
      "neighbourhood                         0\n",
      "latitude                              0\n",
      "longitude                             0\n",
      "room_type                             0\n",
      "price                                 0\n",
      "minimum_nights                        0\n",
      "number_of_reviews                     0\n",
      "last_review                       10052\n",
      "reviews_per_month                 10052\n",
      "calculated_host_listings_count        0\n",
      "availability_365                      0\n",
      "dtype: int64\n"
     ]
    }
   ],
   "source": [
    "# --- Inspection of Airbnb dataset ---\n",
    "if df_airbnb is not None:\n",
    "    print(\"\\n--- Initial inspection of the Airbnb dataset ---\")\n",
    "    print(\"First Lines :\")\n",
    "    print(\"\\nInformation on columns and data types :\")\n",
    "    df_airbnb.info() # Useful for viewing types and non-zero values\n",
    "    print(\"\\nDescriptive statistics :\")\n",
    "    print(df_airbnb.describe()) # Useful for numeric columns (price, availability, etc.) [3, 6, 7].\n",
    "    print(\"\\nNumber of missing values per column :\")\n",
    "    print(df_airbnb.isnull().sum()) # Identifies columns with NaN"
   ]
  },
  {
   "cell_type": "code",
   "execution_count": 11,
   "id": "14a38c4a-a05c-4882-bdd7-3341571f1b8a",
   "metadata": {},
   "outputs": [
    {
     "name": "stdout",
     "output_type": "stream",
     "text": [
      "\n",
      "--- Initial inspection of the Manhattan Property Sales dataset ---\n",
      "First Lines :\n",
      "\n",
      "Information on columns and data types :\n",
      "<class 'pandas.core.frame.DataFrame'>\n",
      "RangeIndex: 17583 entries, 0 to 17582\n",
      "Data columns (total 21 columns):\n",
      " #   Column                                Non-Null Count  Dtype  \n",
      "---  ------                                --------------  -----  \n",
      " 0   Borough                               17583 non-null  int64  \n",
      " 1   Neighborhood                          17583 non-null  object \n",
      " 2   Building Class Category               17583 non-null  object \n",
      " 3   Tax Class As Of Final Roll 18/1       17408 non-null  object \n",
      " 4   Block                                 17583 non-null  int64  \n",
      " 5   Lot                                   17583 non-null  int64  \n",
      " 6   Ease-Ment                             0 non-null      float64\n",
      " 7   Building Class As Of Final Roll 18/1  17408 non-null  object \n",
      " 8   Address                               17583 non-null  object \n",
      " 9   Apartment Number                      8088 non-null   object \n",
      " 10  Zip Code                              17583 non-null  int64  \n",
      " 11  Residential Units                     9812 non-null   float64\n",
      " 12  Commercial Units                      9812 non-null   float64\n",
      " 13  Total Units                           9812 non-null   float64\n",
      " 14  Land Square Feet                      9812 non-null   float64\n",
      " 15  Gross Square Feet                     9812 non-null   float64\n",
      " 16  Year Built                            15532 non-null  float64\n",
      " 17  Tax Class At Time Of Sale             17583 non-null  int64  \n",
      " 18  Building Class At Time Of Sale        17583 non-null  object \n",
      " 19  Sale Price                            17583 non-null  int64  \n",
      " 20  Sale Date                             17583 non-null  object \n",
      "dtypes: float64(7), int64(6), object(8)\n",
      "memory usage: 2.8+ MB\n",
      "\n",
      "Descriptive statistics :\n",
      "       Borough         Block           Lot  Ease-Ment      Zip Code  \\\n",
      "count  17583.0  17583.000000  17583.000000        0.0  17583.000000   \n",
      "mean       1.0   1104.190241    737.370642        NaN  10028.901382   \n",
      "std        0.0    536.865565    883.145605        NaN     36.959115   \n",
      "min        1.0     10.000000      1.000000        NaN  10001.000000   \n",
      "25%        1.0    729.000000     29.000000        NaN  10012.000000   \n",
      "50%        1.0   1164.000000   1003.000000        NaN  10021.000000   \n",
      "75%        1.0   1452.000000   1184.000000        NaN  10028.000000   \n",
      "max        1.0   2250.000000   9109.000000        NaN  10463.000000   \n",
      "\n",
      "       Residential Units  Commercial Units  Total Units  Land Square Feet  \\\n",
      "count        9812.000000       9812.000000  9812.000000       9812.000000   \n",
      "mean            3.388606          0.811965     4.200571       1003.708928   \n",
      "std            18.511595          9.887472    21.114622       8002.911352   \n",
      "min             0.000000          0.000000     0.000000          0.000000   \n",
      "25%             1.000000          0.000000     1.000000          0.000000   \n",
      "50%             1.000000          0.000000     1.000000          0.000000   \n",
      "75%             1.000000          0.000000     1.000000          0.000000   \n",
      "max           600.000000        570.000000   611.000000     659375.000000   \n",
      "\n",
      "       Gross Square Feet    Year Built  Tax Class At Time Of Sale  \\\n",
      "count       9.812000e+03  15532.000000               17583.000000   \n",
      "mean        6.648510e+03   1953.281677                   2.103509   \n",
      "std         5.086343e+04     37.794880                   0.510030   \n",
      "min         0.000000e+00   1800.000000                   1.000000   \n",
      "25%         0.000000e+00   1920.000000                   2.000000   \n",
      "50%         0.000000e+00   1954.000000                   2.000000   \n",
      "75%         0.000000e+00   1985.000000                   2.000000   \n",
      "max         2.400000e+06   2019.000000                   4.000000   \n",
      "\n",
      "         Sale Price  \n",
      "count  1.758300e+04  \n",
      "mean   3.640590e+06  \n",
      "std    2.682500e+07  \n",
      "min    0.000000e+00  \n",
      "25%    2.850000e+05  \n",
      "50%    8.650000e+05  \n",
      "75%    2.000000e+06  \n",
      "max    2.155000e+09  \n",
      "\n",
      "Number of missing values per column :\n",
      "Borough                                     0\n",
      "Neighborhood                                0\n",
      "Building Class Category                     0\n",
      "Tax Class As Of Final Roll 18/1           175\n",
      "Block                                       0\n",
      "Lot                                         0\n",
      "Ease-Ment                               17583\n",
      "Building Class As Of Final Roll 18/1      175\n",
      "Address                                     0\n",
      "Apartment Number                         9495\n",
      "Zip Code                                    0\n",
      "Residential Units                        7771\n",
      "Commercial Units                         7771\n",
      "Total Units                              7771\n",
      "Land Square Feet                         7771\n",
      "Gross Square Feet                        7771\n",
      "Year Built                               2051\n",
      "Tax Class At Time Of Sale                   0\n",
      "Building Class At Time Of Sale              0\n",
      "Sale Price                                  0\n",
      "Sale Date                                   0\n",
      "dtype: int64\n"
     ]
    }
   ],
   "source": [
    "# --- Inspection of the dataset Manhattan Property Sales ---\n",
    "if df_Manhattan_Property_Sales is not None:\n",
    "    print(\"\\n--- Initial inspection of the Manhattan Property Sales dataset ---\")\n",
    "    print(\"First Lines :\")\n",
    "    print(\"\\nInformation on columns and data types :\")\n",
    "    df_Manhattan_Property_Sales.info() # # Useful for viewing types and non-zero values\n",
    "    print(\"\\nDescriptive statistics :\")\n",
    "    print(df_Manhattan_Property_Sales.describe()) # Useful for numeric columns (price, availability, etc.) [4, 6, 7]\n",
    "    print(\"\\nNumber of missing values per column :\")\n",
    "    print(df_Manhattan_Property_Sales.isnull().sum())# Identifies columns with NaN"
   ]
  },
  {
   "cell_type": "code",
   "execution_count": 12,
   "id": "2aba22cd-e6b1-4616-b71c-2d2217aaa72d",
   "metadata": {},
   "outputs": [
    {
     "name": "stdout",
     "output_type": "stream",
     "text": [
      "\n",
      "--- Initial inspection of the Brooklyn Property Sales dataset ---\n",
      "First Lines :\n",
      "\n",
      "Information on columns and data types :\n",
      "<class 'pandas.core.frame.DataFrame'>\n",
      "RangeIndex: 23665 entries, 0 to 23664\n",
      "Data columns (total 21 columns):\n",
      " #   Column                          Non-Null Count  Dtype  \n",
      "---  ------                          --------------  -----  \n",
      " 0   Borough                         23276 non-null  float64\n",
      " 1   Neighborhood                    23276 non-null  object \n",
      " 2   Building Class Category         23276 non-null  object \n",
      " 3   Tax Class At Present            23260 non-null  object \n",
      " 4   Block                           23276 non-null  float64\n",
      " 5   Lot                             23276 non-null  float64\n",
      " 6   Ease-Ment                       0 non-null      float64\n",
      " 7   Building Class At Present       23260 non-null  object \n",
      " 8   Address                         23276 non-null  object \n",
      " 9   Apartment Number                6083 non-null   object \n",
      " 10  Zip Code                        23276 non-null  float64\n",
      " 11  Residential Units               20641 non-null  float64\n",
      " 12  Commercial Units                20641 non-null  float64\n",
      " 13  Total Units                     20641 non-null  float64\n",
      " 14  Land Square Feet                20641 non-null  float64\n",
      " 15  Gross Square Feet               20641 non-null  float64\n",
      " 16  Year Built                      21676 non-null  float64\n",
      " 17  Tax Class At Time Of Sale       23276 non-null  float64\n",
      " 18  Building Class At Time Of Sale  23276 non-null  object \n",
      " 19  Sale Price                      23276 non-null  float64\n",
      " 20  Sale Date                       23276 non-null  object \n",
      "dtypes: float64(13), object(8)\n",
      "memory usage: 3.8+ MB\n",
      "\n",
      "Descriptive statistics :\n",
      "       Borough         Block           Lot  Ease-Ment      Zip Code  \\\n",
      "count  23276.0  23276.000000  23276.000000        0.0  23276.000000   \n",
      "mean       3.0   4436.305164    326.277797        NaN  11220.409134   \n",
      "std        0.0   2650.873893    513.573275        NaN     11.785682   \n",
      "min        3.0      1.000000      1.000000        NaN  11201.000000   \n",
      "25%        3.0   1865.000000     23.000000        NaN  11210.000000   \n",
      "50%        3.0   4782.500000     50.000000        NaN  11220.000000   \n",
      "75%        3.0   6732.000000    426.000000        NaN  11231.000000   \n",
      "max        3.0   8955.000000   6001.000000        NaN  11249.000000   \n",
      "\n",
      "       Residential Units  Commercial Units   Total Units  Land Square Feet  \\\n",
      "count       20641.000000      20641.000000  20641.000000      20641.000000   \n",
      "mean            2.230028          0.202946      2.432973       2485.481663   \n",
      "std            10.161772          1.814093     10.374395      15303.086255   \n",
      "min             0.000000          0.000000      0.000000          0.000000   \n",
      "25%             1.000000          0.000000      1.000000          0.000000   \n",
      "50%             1.000000          0.000000      2.000000       2000.000000   \n",
      "75%             2.000000          0.000000      2.000000       2500.000000   \n",
      "max           826.000000        210.000000    833.000000     970000.000000   \n",
      "\n",
      "       Gross Square Feet    Year Built  Tax Class At Time Of Sale  \\\n",
      "count       20641.000000  21676.000000               23276.000000   \n",
      "mean         2805.030522   1945.253737                   1.626654   \n",
      "std         14389.217507     38.858157                   0.875533   \n",
      "min             0.000000   1800.000000                   1.000000   \n",
      "25%             0.000000   1920.000000                   1.000000   \n",
      "50%          1844.000000   1930.000000                   1.000000   \n",
      "75%          2808.000000   1965.000000                   2.000000   \n",
      "max        942992.000000   2020.000000                   4.000000   \n",
      "\n",
      "         Sale Price  \n",
      "count  2.327600e+04  \n",
      "mean   1.037545e+06  \n",
      "std    4.611945e+06  \n",
      "min    0.000000e+00  \n",
      "25%    0.000000e+00  \n",
      "50%    4.850000e+05  \n",
      "75%    9.700000e+05  \n",
      "max    2.142000e+08  \n",
      "\n",
      "Number of missing values per column :\n",
      "Borough                             389\n",
      "Neighborhood                        389\n",
      "Building Class Category             389\n",
      "Tax Class At Present                405\n",
      "Block                               389\n",
      "Lot                                 389\n",
      "Ease-Ment                         23665\n",
      "Building Class At Present           405\n",
      "Address                             389\n",
      "Apartment Number                  17582\n",
      "Zip Code                            389\n",
      "Residential Units                  3024\n",
      "Commercial Units                   3024\n",
      "Total Units                        3024\n",
      "Land Square Feet                   3024\n",
      "Gross Square Feet                  3024\n",
      "Year Built                         1989\n",
      "Tax Class At Time Of Sale           389\n",
      "Building Class At Time Of Sale      389\n",
      "Sale Price                          389\n",
      "Sale Date                           389\n",
      "dtype: int64\n"
     ]
    }
   ],
   "source": [
    "# --- Inspection of the dataset Brooklyn Property Sales ---\n",
    "if df_Brooklyn_Property_Sales is not None:\n",
    "    print(\"\\n--- Initial inspection of the Brooklyn Property Sales dataset ---\")\n",
    "    print(\"First Lines :\")\n",
    "    print(\"\\nInformation on columns and data types :\")\n",
    "    df_Brooklyn_Property_Sales.info() # # Useful for viewing types and non-zero values\n",
    "    print(\"\\nDescriptive statistics :\")\n",
    "    print(df_Brooklyn_Property_Sales.describe()) # Useful for numeric columns (price, availability, etc.) [4, 6, 7]\n",
    "    print(\"\\nNumber of missing values per column :\")\n",
    "    print(df_Brooklyn_Property_Sales.isnull().sum())# Identifies columns with NaN"
   ]
  },
  {
   "cell_type": "code",
   "execution_count": 13,
   "id": "211c5b5f-f1ef-4a2b-9b49-9a571be4d1de",
   "metadata": {},
   "outputs": [
    {
     "name": "stdout",
     "output_type": "stream",
     "text": [
      "Colonnes disponibles :\n",
      "['id', 'name', 'host_id', 'host_name', 'neighbourhood_group', 'neighbourhood', 'latitude', 'longitude', 'room_type', 'price', 'minimum_nights', 'number_of_reviews', 'last_review', 'reviews_per_month', 'calculated_host_listings_count', 'availability_365']\n"
     ]
    }
   ],
   "source": [
    "print(\"Colonnes disponibles :\")\n",
    "print(df_airbnb.columns.tolist())"
   ]
  },
  {
   "cell_type": "code",
   "execution_count": 14,
   "id": "1eae081b-b05f-4ad6-ab8f-ed3a9c334a55",
   "metadata": {},
   "outputs": [
    {
     "name": "stdout",
     "output_type": "stream",
     "text": [
      "Colonnes disponibles :\n",
      "['Borough', 'Neighborhood', 'Building Class Category', 'Tax Class At Present', 'Block', 'Lot', 'Ease-Ment', 'Building Class At Present', 'Address', 'Apartment Number', 'Zip Code', 'Residential Units', 'Commercial Units', 'Total Units', 'Land Square Feet', 'Gross Square Feet', 'Year Built', 'Tax Class At Time Of Sale', 'Building Class At Time Of Sale', 'Sale Price', 'Sale Date']\n"
     ]
    }
   ],
   "source": [
    "print(\"Colonnes disponibles :\")\n",
    "print(df_Brooklyn_Property_Sales.columns.tolist())"
   ]
  },
  {
   "cell_type": "code",
   "execution_count": 15,
   "id": "7c1dec07-c2e2-4bff-8f8c-7218529df233",
   "metadata": {},
   "outputs": [
    {
     "name": "stdout",
     "output_type": "stream",
     "text": [
      "Colonnes disponibles :\n",
      "['Borough', 'Neighborhood', 'Building Class Category', 'Tax Class As Of Final Roll 18/1', 'Block', 'Lot', 'Ease-Ment', 'Building Class As Of Final Roll 18/1', 'Address', 'Apartment Number', 'Zip Code', 'Residential Units', 'Commercial Units', 'Total Units', 'Land Square Feet', 'Gross Square Feet', 'Year Built', 'Tax Class At Time Of Sale', 'Building Class At Time Of Sale', 'Sale Price', 'Sale Date']\n"
     ]
    }
   ],
   "source": [
    "print(\"Colonnes disponibles :\")\n",
    "print(df_Manhattan_Property_Sales.columns.tolist())"
   ]
  },
  {
   "cell_type": "code",
   "execution_count": 16,
   "id": "93ff9f08-c099-4f47-80ad-6baa12cda88c",
   "metadata": {},
   "outputs": [
    {
     "name": "stdout",
     "output_type": "stream",
     "text": [
      "Check file uploaded:\n",
      "     id                                name  host_id host_name  \\\n",
      "0  2539  Clean & quiet apt home by the park     2787      John   \n",
      "1  2595               Skylit Midtown Castle     2845  Jennifer   \n",
      "\n",
      "  neighbourhood_group neighbourhood  latitude  longitude        room_type  \\\n",
      "0            Brooklyn    Kensington  40.64749  -73.97237     Private room   \n",
      "1           Manhattan       Midtown  40.75362  -73.98377  Entire home/apt   \n",
      "\n",
      "   price  minimum_nights  number_of_reviews last_review  reviews_per_month  \\\n",
      "0    149               1                  9  2018-10-19               0.21   \n",
      "1    225               1                 45  2019-05-21               0.38   \n",
      "\n",
      "   calculated_host_listings_count  availability_365  \n",
      "0                               6               365  \n",
      "1                               2               355  \n",
      "Error: Airbnb file not found at specified location\n",
      "Prices cleaned successfully\n"
     ]
    },
    {
     "name": "stderr",
     "output_type": "stream",
     "text": [
      "<>:18: SyntaxWarning: invalid escape sequence '\\d'\n",
      "<>:18: SyntaxWarning: invalid escape sequence '\\d'\n",
      "C:\\Users\\Santi\\AppData\\Local\\Temp\\ipykernel_17960\\3761291808.py:18: SyntaxWarning: invalid escape sequence '\\d'\n",
      "  df_airbnb['price'] = df_airbnb['price'].replace('[^\\d.]', '', regex=True).astype(float)\n"
     ]
    }
   ],
   "source": [
    "import pandas as pd\n",
    "\n",
    "# 1. Vérification du fichier chargé\n",
    "print('Check file uploaded:')\n",
    "print(df_airbnb.head(2))  # Vérification des données Airbnb\n",
    "\n",
    "# 2. Chargement du fichier Airbnb (version corrigée)\n",
    "correct_airbnb_path = r'C:\\Users\\proprietaire\\Desktop\\PROJETS DATA (PERSOS)\\AB_NYC_2019.csv'\n",
    "try:\n",
    "    df_airbnb = pd.read_csv(correct_airbnb_path)\n",
    "    print('Airbnb dataset correctly loaded')\n",
    "except FileNotFoundError:\n",
    "    print('Error: Airbnb file not found at specified location')\n",
    "\n",
    "# 3. Traitement des données Airbnb\n",
    "if 'price' in df_airbnb.columns:  # Note: dans Airbnb c'est 'price' (minuscule)\n",
    "    # Nettoyage des prix (expression régulière corrigée)\n",
    "    df_airbnb['price'] = df_airbnb['price'].replace('[^\\d.]', '', regex=True).astype(float)\n",
    "    print('Prices cleaned successfully')"
   ]
  },
  {
   "cell_type": "code",
   "execution_count": 17,
   "id": "31fc08c0-db3c-4328-9746-d5b4eb72ba13",
   "metadata": {},
   "outputs": [
    {
     "name": "stdout",
     "output_type": "stream",
     "text": [
      "\n",
      "--- Handling missing values ---\n",
      "Missing values handled successfully\n"
     ]
    }
   ],
   "source": [
    "if df_airbnb is not None:\n",
    "    print('\\n--- Handling missing values ---')\n",
    "    \n",
    "    # Checks whether the column exists before modifying it\n",
    "    if 'reviews_per_month' in df_airbnb.columns:\n",
    "        df_airbnb = df_airbnb.assign(\n",
    "            reviews_per_month=df_airbnb['reviews_per_month'].fillna(0),\n",
    "            last_review=df_airbnb['last_review'].fillna(pd.NaT)  # Example for another column\n",
    "        )\n",
    "        print('Missing values handled successfully')\n",
    "    else:\n",
    "        print(\"'reviews_per_month' column not found\")"
   ]
  },
  {
   "cell_type": "code",
   "execution_count": 18,
   "id": "c6e3e4b4-c6de-436f-a076-73727e5bcd2b",
   "metadata": {},
   "outputs": [
    {
     "name": "stdout",
     "output_type": "stream",
     "text": [
      "\n",
      "--- Handling missing values ---\n",
      "\n",
      "Missing values after Airbnb processing:\n",
      "id                                    0\n",
      "name                                 16\n",
      "host_id                               0\n",
      "host_name                            21\n",
      "neighbourhood_group                   0\n",
      "neighbourhood                         0\n",
      "latitude                              0\n",
      "longitude                             0\n",
      "room_type                             0\n",
      "price                                 0\n",
      "minimum_nights                        0\n",
      "number_of_reviews                     0\n",
      "last_review                       10052\n",
      "reviews_per_month                     0\n",
      "calculated_host_listings_count        0\n",
      "availability_365                      0\n",
      "dtype: int64\n"
     ]
    }
   ],
   "source": [
    "# --- Previous processing code ---\n",
    "if df_airbnb is not None:\n",
    "    print('\\n--- Handling missing values ---')\n",
    "    if 'reviews_per_month' in df_airbnb.columns:\n",
    "        df_airbnb['reviews_per_month'] = df_airbnb['reviews_per_month'].fillna(0)\n",
    "\n",
    "# Check missing values after processing (correct indentation)\n",
    "print('\\nMissing values after Airbnb processing:')\n",
    "print(df_airbnb.isnull().sum())"
   ]
  },
  {
   "cell_type": "code",
   "execution_count": 19,
   "id": "1bb86bcc-0734-4e89-b1bd-9ebea94ef362",
   "metadata": {},
   "outputs": [
    {
     "name": "stdout",
     "output_type": "stream",
     "text": [
      "\n",
      "--- Handling missing Manhattan Property Sales values ---\n",
      "Lines deleted because \"Sale Price\" is missing or 0: 3763\n",
      "\n",
      "Missing values after processing:\n",
      "Borough                                     0\n",
      "Neighborhood                                0\n",
      "Building Class Category                     0\n",
      "Tax Class As Of Final Roll 18/1             9\n",
      "Block                                       0\n",
      "Lot                                         0\n",
      "Ease-Ment                               13820\n",
      "Building Class As Of Final Roll 18/1        9\n",
      "Address                                     0\n",
      "Apartment Number                         7658\n",
      "Zip Code                                    0\n",
      "Residential Units                        6631\n",
      "Commercial Units                         6631\n",
      "Total Units                              6631\n",
      "Land Square Feet                         6631\n",
      "Gross Square Feet                        6631\n",
      "Year Built                               1329\n",
      "Tax Class At Time Of Sale                   0\n",
      "Building Class At Time Of Sale              0\n",
      "Sale Price                                  0\n",
      "Sale Date                                   0\n",
      "dtype: int64\n"
     ]
    }
   ],
   "source": [
    "# --- Handling missing values ---\n",
    "if df_Manhattan_Property_Sales is not None:\n",
    "    print('\\n--- Handling missing Manhattan Property Sales values ---')\n",
    "\n",
    "    # Check column name (corrected from 'Columns' to 'columns')\n",
    "    price_column = 'Sale Price' if 'Sale Price' in df_Manhattan_Property_Sales.columns else 'SALE PRICE'\n",
    "\n",
    "    # Copy the DataFrame to avoid warnings\n",
    "    df_clean = df_Manhattan_Property_Sales.copy()\n",
    "    initial_rows = df_clean.shape[0]\n",
    "\n",
    "    # 1. Delete rows with no sale price\n",
    "    df_clean = df_clean.dropna(subset=[price_column])\n",
    "\n",
    "    # 2. Delete rows with price = 0 (corrected syntax)\n",
    "    df_clean = df_clean[df_clean[price_column] > 0]\n",
    "\n",
    "    # 3. Optional area management (corrected quotes and indentation)\n",
    "    if 'GROSS SQUARE FEET' in df_clean.columns:\n",
    "        df_clean = df_clean.query('`GROSS SQUARE FEET` > 0')\n",
    "\n",
    "    # Calculation of deleted lines (fixed f-string)\n",
    "    deleted_rows = initial_rows - df_clean.shape[0]\n",
    "    print(f'Lines deleted because \"{price_column}\" is missing or 0: {deleted_rows}')\n",
    "\n",
    "    # Final check (fixed quotes)\n",
    "    print('\\nMissing values after processing:')\n",
    "    print(df_clean.isnull().sum())\n",
    "\n",
    "    # Reassign the cleaned DataFrame\n",
    "    df_Manhattan_Property_Sales = df_clean"
   ]
  },
  {
   "cell_type": "code",
   "execution_count": 20,
   "id": "a50f6587-5690-4765-8bc8-0d2927cb9a9e",
   "metadata": {},
   "outputs": [
    {
     "name": "stdout",
     "output_type": "stream",
     "text": [
      "\n",
      "--- Handling missing Brooklyn Property Sales values ---\n",
      "Lines deleted because \"Sale Price\" is missing or 0: 8638\n",
      "\n",
      "Missing values after processing:\n",
      "Borough                               0\n",
      "Neighborhood                          0\n",
      "Building Class Category               0\n",
      "Tax Class At Present                 13\n",
      "Block                                 0\n",
      "Lot                                   0\n",
      "Ease-Ment                         15027\n",
      "Building Class At Present            13\n",
      "Address                               0\n",
      "Apartment Number                  10318\n",
      "Zip Code                              0\n",
      "Residential Units                  2249\n",
      "Commercial Units                   2249\n",
      "Total Units                        2249\n",
      "Land Square Feet                   2249\n",
      "Gross Square Feet                  2249\n",
      "Year Built                         1117\n",
      "Tax Class At Time Of Sale             0\n",
      "Building Class At Time Of Sale        0\n",
      "Sale Price                            0\n",
      "Sale Date                             0\n",
      "dtype: int64\n"
     ]
    }
   ],
   "source": [
    "# --- Handling missing values ---\n",
    "if df_Brooklyn_Property_Sales is not None:\n",
    "    print('\\n--- Handling missing Brooklyn Property Sales values ---')\n",
    "\n",
    "    # Check column name (corrected from 'Columns' to 'columns')\n",
    "    price_column = 'Sale Price' if 'Sale Price' in df_Brooklyn_Property_Sales.columns else 'SALE PRICE'\n",
    "\n",
    "    # Copy the DataFrame to avoid warnings\n",
    "    df_clean = df_Brooklyn_Property_Sales.copy()\n",
    "    initial_rows = df_clean.shape[0]\n",
    "\n",
    "    # 1. Delete rows with no sale price\n",
    "    df_clean = df_clean.dropna(subset=[price_column])\n",
    "\n",
    "    # 2. Delete rows with price = 0 (corrected syntax)\n",
    "    df_clean = df_clean[df_clean[price_column] > 0]\n",
    "\n",
    "    # 3. Optional area management (corrected quotes and indentation)\n",
    "    if 'GROSS SQUARE FEET' in df_clean.columns:\n",
    "        df_clean = df_clean.query('`GROSS SQUARE FEET` > 0')\n",
    "\n",
    "    # Calculation of deleted lines (fixed f-string)\n",
    "    deleted_rows = initial_rows - df_clean.shape[0]\n",
    "    print(f'Lines deleted because \"{price_column}\" is missing or 0: {deleted_rows}')\n",
    "\n",
    "    # Final check (fixed quotes)\n",
    "    print('\\nMissing values after processing:')\n",
    "    print(df_clean.isnull().sum())\n",
    "\n",
    "    # Reassign the cleaned DataFrame\n",
    "    df_Brooklyn_Property_Sales = df_clean"
   ]
  },
  {
   "cell_type": "code",
   "execution_count": 21,
   "id": "3967a8a1-073c-4871-895d-210875db2f9c",
   "metadata": {},
   "outputs": [
    {
     "name": "stdout",
     "output_type": "stream",
     "text": [
      "\n",
      "--- Airbnb duplicate management ---\n",
      "Number of duplicates deleted (Airbnb): 0\n"
     ]
    }
   ],
   "source": [
    "# --- Duplicate management ---\n",
    "if df_airbnb is not None:\n",
    "    print(\"\\n--- Airbnb duplicate management ---\")\n",
    "    initial_rows_airbnb = df_airbnb.shape[0]  # Ajout de [0] pour obtenir le nombre de lignes\n",
    "    df_airbnb.drop_duplicates(inplace=True)\n",
    "    print(f\"Number of duplicates deleted (Airbnb): {initial_rows_airbnb - df_airbnb.shape[0]}\")"
   ]
  },
  {
   "cell_type": "code",
   "execution_count": 22,
   "id": "8c96ce22-de84-4879-b2d4-83d52a359db8",
   "metadata": {},
   "outputs": [
    {
     "name": "stdout",
     "output_type": "stream",
     "text": [
      "\n",
      "--- Brooklyn duplicate management ---\n",
      "Number of duplicates deleted (Brooklyn Property Sales): 8\n"
     ]
    }
   ],
   "source": [
    "# --- Duplicate management ---\n",
    "if df_Brooklyn_Property_Sales is not None:\n",
    "    print(\"\\n--- Brooklyn duplicate management ---\")\n",
    "    initial_rows_Brooklyn_Property_Sales = df_Brooklyn_Property_Sales.shape[0]  # Add [0] to obtain the number of lines\n",
    "    df_Brooklyn_Property_Sales.drop_duplicates(inplace=True)\n",
    "    print(f\"Number of duplicates deleted (Brooklyn Property Sales): {initial_rows_Brooklyn_Property_Sales - df_Brooklyn_Property_Sales.shape[0]}\")"
   ]
  },
  {
   "cell_type": "code",
   "execution_count": 23,
   "id": "f2c1f646-ffa8-429a-b402-ba8e36541bb6",
   "metadata": {},
   "outputs": [
    {
     "name": "stdout",
     "output_type": "stream",
     "text": [
      "\n",
      "--- Manhattan_Property_Sales duplicate management ---\n",
      "Number of duplicates deleted (Manhattan Property Sales): 3\n"
     ]
    }
   ],
   "source": [
    "# --- Duplicate management ---\n",
    "if df_Manhattan_Property_Sales is not None:\n",
    "    print(\"\\n--- Manhattan_Property_Sales duplicate management ---\")\n",
    "    initial_rows_Manhattan_Property_Sales = df_Manhattan_Property_Sales.shape[0]  # Add [0] to obtain the number of lines\n",
    "    df_Manhattan_Property_Sales.drop_duplicates(inplace=True)\n",
    "    print(f\"Number of duplicates deleted (Manhattan Property Sales): {initial_rows_Manhattan_Property_Sales - df_Manhattan_Property_Sales.shape[0]}\")"
   ]
  },
  {
   "cell_type": "code",
   "execution_count": 24,
   "id": "0d45ec9b-e755-4961-b49c-aa8b01f91b0c",
   "metadata": {},
   "outputs": [
    {
     "name": "stdout",
     "output_type": "stream",
     "text": [
      "\n",
      "--- Correction of Airbnb data types ---\n",
      "<class 'pandas.core.frame.DataFrame'>\n",
      "RangeIndex: 48895 entries, 0 to 48894\n",
      "Data columns (total 16 columns):\n",
      " #   Column                          Non-Null Count  Dtype  \n",
      "---  ------                          --------------  -----  \n",
      " 0   id                              48895 non-null  int64  \n",
      " 1   name                            48879 non-null  object \n",
      " 2   host_id                         48895 non-null  int64  \n",
      " 3   host_name                       48874 non-null  object \n",
      " 4   neighbourhood_group             48895 non-null  object \n",
      " 5   neighbourhood                   48895 non-null  object \n",
      " 6   latitude                        48895 non-null  float64\n",
      " 7   longitude                       48895 non-null  float64\n",
      " 8   room_type                       48895 non-null  object \n",
      " 9   price                           48895 non-null  float64\n",
      " 10  minimum_nights                  48895 non-null  int64  \n",
      " 11  number_of_reviews               48895 non-null  int64  \n",
      " 12  last_review                     38843 non-null  object \n",
      " 13  reviews_per_month               48895 non-null  float64\n",
      " 14  calculated_host_listings_count  48895 non-null  int64  \n",
      " 15  availability_365                48895 non-null  int64  \n",
      "dtypes: float64(4), int64(6), object(6)\n",
      "memory usage: 6.0+ MB\n",
      "None\n"
     ]
    }
   ],
   "source": [
    "# --- Correction of Airbnb data types ---\n",
    "if df_airbnb is not None:\n",
    " print(\"\\n--- Correction of Airbnb data types ---\")\n",
    "    # Important numeric columns [3]: price, minimum_nights, number_of_reviews, reviews_per_month, calculated_host_listings_count, availability_365\n",
    "    # These should already be numeric, but a check is useful.\n",
    "    # If this is not the case, you could use pd.to_numeric(errors=“coerce”)\n",
    "    # Example (probably not necessary if the CSV is clean, but good practice):\n",
    "    # df_airbnb[“price”] = pd.to_numeric(df_airbnb[“price”], errors=“coerce”)\n",
    "    # df_airbnb[“availability_365”] = pd.to_numeric(df_airbnb[“availability_365”], errors=“coerce”)\n",
    "\n",
    "    # Check types after transformation\n",
    " print(df_airbnb.info())"
   ]
  },
  {
   "cell_type": "code",
   "execution_count": 25,
   "id": "5a1c8db8-08e8-437b-a401-0187e11050a4",
   "metadata": {},
   "outputs": [
    {
     "name": "stdout",
     "output_type": "stream",
     "text": [
      "\n",
      "--- Correction of Manhattan Property Sales data types ---\n",
      "\n",
      "Data types after conversion:\n",
      "<class 'pandas.core.frame.DataFrame'>\n",
      "Index: 13817 entries, 0 to 17582\n",
      "Data columns (total 21 columns):\n",
      " #   Column                                Non-Null Count  Dtype  \n",
      "---  ------                                --------------  -----  \n",
      " 0   Borough                               13817 non-null  int64  \n",
      " 1   Neighborhood                          13817 non-null  object \n",
      " 2   Building Class Category               13817 non-null  object \n",
      " 3   Tax Class As Of Final Roll 18/1       13808 non-null  object \n",
      " 4   Block                                 13817 non-null  int64  \n",
      " 5   Lot                                   13817 non-null  int64  \n",
      " 6   Ease-Ment                             0 non-null      float64\n",
      " 7   Building Class As Of Final Roll 18/1  13808 non-null  object \n",
      " 8   Address                               13817 non-null  object \n",
      " 9   Apartment Number                      6161 non-null   object \n",
      " 10  Zip Code                              13817 non-null  int64  \n",
      " 11  Residential Units                     7187 non-null   float64\n",
      " 12  Commercial Units                      7187 non-null   float64\n",
      " 13  Total Units                           7187 non-null   float64\n",
      " 14  Land Square Feet                      7187 non-null   float64\n",
      " 15  Gross Square Feet                     7187 non-null   float64\n",
      " 16  Year Built                            12488 non-null  float64\n",
      " 17  Tax Class At Time Of Sale             13817 non-null  int64  \n",
      " 18  Building Class At Time Of Sale        13817 non-null  object \n",
      " 19  Sale Price                            13817 non-null  int64  \n",
      " 20  Sale Date                             13817 non-null  object \n",
      "dtypes: float64(7), int64(6), object(8)\n",
      "memory usage: 2.3+ MB\n",
      "None\n"
     ]
    }
   ],
   "source": [
    "# --- Correction of Manhattan Property Sales data types ---\n",
    "if df_Manhattan_Property_Sales is not None:\n",
    "    print(\"\\n--- Correction of Manhattan Property Sales data types ---\")\n",
    "    # Important columns: SALE PRICE, SALE DATE, GROSS SQUARE FEET, LAND SQUARE FEET\n",
    "    # SALE PRICE' and areas can be objects (strings) because of formatting ($, commas, spaces, NaN)\n",
    "    # 'SALE DATE' is probably a string\n",
    "\n",
    "    columns_to_numeric = ['SALE PRICE', 'GROSS SQUARE FEET', 'LAND SQUARE FEET'] # Adapt if other surface columns exist\n",
    "\n",
    "    for col in columns_to_numeric:\n",
    "        if col in df_Manhattan_Property_Sales.columns:\n",
    "            # Clean up strings (remove $, ',', etc. and deal with empty spaces)\n",
    "            df_Manhattan_Property_Sales[col] = df_Manhattan_Property_Sales[col].astype(str).str.replace(r\"[$, -]\", '', regex=True)\n",
    "            # Convert to numeric (non-convertible values become NaN)\n",
    "            df_Manhattan_Property_Sales[col] = pd.to_numeric(df_Manhattan_Property_Sales[col], errors='coerce')\n",
    "\n",
    "    # Optional: Convert SALE DATE to datetime\n",
    "    if 'SALE DATE' in df_Manhattan_Property_Sales.columns:\n",
    "        df_Manhattan_Property_Sales['SALE DATE'] = pd.to_datetime(df_Manhattan_Property_Sales['SALE DATE'], errors='coerce')\n",
    "    \n",
    "    # Check types after transformation\n",
    "    print(\"\\nData types after conversion:\")\n",
    "    print(df_Manhattan_Property_Sales.info())"
   ]
  },
  {
   "cell_type": "code",
   "execution_count": 26,
   "id": "d6cda3c8-62cc-4707-8f12-684d5120fa5a",
   "metadata": {},
   "outputs": [
    {
     "name": "stdout",
     "output_type": "stream",
     "text": [
      "\n",
      "--- Correction of Manhattan Property Sales data types ---\n",
      "\n",
      "Data types after conversion:\n",
      "<class 'pandas.core.frame.DataFrame'>\n",
      "Index: 15019 entries, 4 to 23275\n",
      "Data columns (total 21 columns):\n",
      " #   Column                          Non-Null Count  Dtype  \n",
      "---  ------                          --------------  -----  \n",
      " 0   Borough                         15019 non-null  float64\n",
      " 1   Neighborhood                    15019 non-null  object \n",
      " 2   Building Class Category         15019 non-null  object \n",
      " 3   Tax Class At Present            15006 non-null  object \n",
      " 4   Block                           15019 non-null  float64\n",
      " 5   Lot                             15019 non-null  float64\n",
      " 6   Ease-Ment                       0 non-null      float64\n",
      " 7   Building Class At Present       15006 non-null  object \n",
      " 8   Address                         15019 non-null  object \n",
      " 9   Apartment Number                4709 non-null   object \n",
      " 10  Zip Code                        15019 non-null  float64\n",
      " 11  Residential Units               12772 non-null  float64\n",
      " 12  Commercial Units                12772 non-null  float64\n",
      " 13  Total Units                     12772 non-null  float64\n",
      " 14  Land Square Feet                12772 non-null  float64\n",
      " 15  Gross Square Feet               12772 non-null  float64\n",
      " 16  Year Built                      13902 non-null  float64\n",
      " 17  Tax Class At Time Of Sale       15019 non-null  float64\n",
      " 18  Building Class At Time Of Sale  15019 non-null  object \n",
      " 19  Sale Price                      15019 non-null  float64\n",
      " 20  Sale Date                       15019 non-null  object \n",
      "dtypes: float64(13), object(8)\n",
      "memory usage: 2.5+ MB\n",
      "None\n"
     ]
    }
   ],
   "source": [
    "# --- Correction of Brooklyn Property Sales data types ---\n",
    "if df_Brooklyn_Property_Sales is not None:\n",
    "    print(\"\\n--- Correction of Manhattan Property Sales data types ---\")\n",
    "    # Important columns: SALE PRICE, SALE DATE, GROSS SQUARE FEET, LAND SQUARE FEET\n",
    "    # SALE PRICE' and areas can be objects (strings) because of formatting ($, commas, spaces, NaN)\n",
    "    # 'SALE DATE' is probably a string\n",
    "\n",
    "    columns_to_numeric = ['SALE PRICE', 'GROSS SQUARE FEET', 'LAND SQUARE FEET'] # Adapt if other surface columns exist\n",
    "\n",
    "    for col in columns_to_numeric:\n",
    "        if col in df_Brooklyn_Property_Sales.columns:\n",
    "            # Clean up strings (remove $, ',', etc. and deal with empty spaces)\n",
    "            df_Brooklyn_Property_Sales[col] = df_Brooklyn_Property_Sales[col].astype(str).str.replace(r\"[$, -]\", '', regex=True)\n",
    "            # Convert to numeric (non-convertible values become NaN)\n",
    "            df_Brooklyn_Property_Sales[col] = pd.to_numeric(df_Brooklyn_Property_Sales[col], errors='coerce')\n",
    "            \n",
    "    # Optional: Convert SALE DATE to datetime\n",
    "    if 'SALE DATE' in df_Brooklyn_Property_Sales.columns:\n",
    "        df_Brooklyn_Property_Sales['SALE DATE'] = pd.to_datetime(df_Brooklyn_Property_Sales['SALE DATE'], errors='coerce')\n",
    "    \n",
    "    # Check types after transformation\n",
    "    print(\"\\nData types after conversion:\")\n",
    "    print(df_Brooklyn_Property_Sales.info())"
   ]
  },
  {
   "cell_type": "code",
   "execution_count": 27,
   "id": "1f237b1d-4925-478a-98f6-46508afa9ff1",
   "metadata": {},
   "outputs": [
    {
     "name": "stdout",
     "output_type": "stream",
     "text": [
      "\n",
      "Data types after cleaning:\n",
      "<class 'pandas.core.frame.DataFrame'>\n",
      "Index: 13817 entries, 0 to 17582\n",
      "Data columns (total 21 columns):\n",
      " #   Column                                Non-Null Count  Dtype  \n",
      "---  ------                                --------------  -----  \n",
      " 0   Borough                               13817 non-null  int64  \n",
      " 1   Neighborhood                          13817 non-null  object \n",
      " 2   Building Class Category               13817 non-null  object \n",
      " 3   Tax Class As Of Final Roll 18/1       13808 non-null  object \n",
      " 4   Block                                 13817 non-null  int64  \n",
      " 5   Lot                                   13817 non-null  int64  \n",
      " 6   Ease-Ment                             0 non-null      float64\n",
      " 7   Building Class As Of Final Roll 18/1  13808 non-null  object \n",
      " 8   Address                               13817 non-null  object \n",
      " 9   Apartment Number                      6161 non-null   object \n",
      " 10  Zip Code                              13817 non-null  int64  \n",
      " 11  Residential Units                     7187 non-null   float64\n",
      " 12  Commercial Units                      7187 non-null   float64\n",
      " 13  Total Units                           7187 non-null   float64\n",
      " 14  Land Square Feet                      7187 non-null   float64\n",
      " 15  Gross Square Feet                     7187 non-null   float64\n",
      " 16  Year Built                            12488 non-null  float64\n",
      " 17  Tax Class At Time Of Sale             13817 non-null  int64  \n",
      " 18  Building Class At Time Of Sale        13817 non-null  object \n",
      " 19  Sale Price                            13817 non-null  int64  \n",
      " 20  Sale Date                             13817 non-null  object \n",
      "dtypes: float64(7), int64(6), object(8)\n",
      "memory usage: 2.3+ MB\n",
      "None\n"
     ]
    }
   ],
   "source": [
    "# Convert 'SALE DATE' to datetime\n",
    "if 'SALE DATE' in df_Manhattan_Property_Sales.columns:\n",
    "    df_Manhattan_Property_Sales['SALE DATE'] = pd.to_datetime(df_Manhattan_Property_Sales['SALE DATE'], errors='coerce')\n",
    "\n",
    "# After conversion, manage missing values (NaNs)\n",
    "if 'SALE PRICE' in df_Manhattan_Property_Sales.columns:\n",
    "    # 1. Delete rows where SALE PRICE is NaN\n",
    "    df_Manhattan_Property_Sales.dropna(subset=['SALE PRICE'], inplace=True)\n",
    "    \n",
    "    # 2. Keep only rows with price > 0\n",
    "    df_Manhattan_Property_Sales = df_Manhattan_Property_Sales[df_Manhattan_Property_Sales['SALE PRICE'] > 0]\n",
    "\n",
    "# Surface management\n",
    "if 'GROSS SQUARE FEET' in df_Manhattan_Property_Sales.columns:\n",
    "    df_Manhattan_Property_Sales['GROSS SQUARE FEET'].fillna(0, inplace=True)\n",
    "\n",
    "# Final check\n",
    "print(\"\\nData types after cleaning:\")\n",
    "print(df_Manhattan_Property_Sales.info())"
   ]
  },
  {
   "cell_type": "code",
   "execution_count": 28,
   "id": "e347251a-8c7b-4e4e-9293-bb40193c6bf8",
   "metadata": {},
   "outputs": [
    {
     "name": "stdout",
     "output_type": "stream",
     "text": [
      "\n",
      "Data types after cleaning:\n",
      "<class 'pandas.core.frame.DataFrame'>\n",
      "Index: 15019 entries, 4 to 23275\n",
      "Data columns (total 21 columns):\n",
      " #   Column                          Non-Null Count  Dtype  \n",
      "---  ------                          --------------  -----  \n",
      " 0   Borough                         15019 non-null  float64\n",
      " 1   Neighborhood                    15019 non-null  object \n",
      " 2   Building Class Category         15019 non-null  object \n",
      " 3   Tax Class At Present            15006 non-null  object \n",
      " 4   Block                           15019 non-null  float64\n",
      " 5   Lot                             15019 non-null  float64\n",
      " 6   Ease-Ment                       0 non-null      float64\n",
      " 7   Building Class At Present       15006 non-null  object \n",
      " 8   Address                         15019 non-null  object \n",
      " 9   Apartment Number                4709 non-null   object \n",
      " 10  Zip Code                        15019 non-null  float64\n",
      " 11  Residential Units               12772 non-null  float64\n",
      " 12  Commercial Units                12772 non-null  float64\n",
      " 13  Total Units                     12772 non-null  float64\n",
      " 14  Land Square Feet                12772 non-null  float64\n",
      " 15  Gross Square Feet               12772 non-null  float64\n",
      " 16  Year Built                      13902 non-null  float64\n",
      " 17  Tax Class At Time Of Sale       15019 non-null  float64\n",
      " 18  Building Class At Time Of Sale  15019 non-null  object \n",
      " 19  Sale Price                      15019 non-null  float64\n",
      " 20  Sale Date                       15019 non-null  object \n",
      "dtypes: float64(13), object(8)\n",
      "memory usage: 2.5+ MB\n",
      "None\n"
     ]
    }
   ],
   "source": [
    "# Convert 'SALE DATE' to datetime\n",
    "if 'SALE DATE' in df_Brooklyn_Property_Sales.columns:\n",
    "    df_Brooklyn_Property_Sales['SALE DATE'] = pd.to_datetime(df_Brooklyn_Property_Sales['SALE DATE'], errors='coerce')\n",
    "\n",
    "# After conversion, manage missing values (NaNs)\n",
    "if 'SALE PRICE' in df_Brooklyn_Property_Sales.columns:\n",
    "    # 1. Delete rows where SALE PRICE is NaN\n",
    "    df_Brooklyn_Property_Sales.dropna(subset=['SALE PRICE'], inplace=True)\n",
    "    \n",
    "    # 2. Keep only rows with price > 0\n",
    "    df_Brooklyn_Property_Sales = df_Brooklyn_Property_Sales[df_Brooklyn_Property_Sales['SALE PRICE'] > 0]\n",
    "\n",
    "# Surface management\n",
    "if 'GROSS SQUARE FEET' in df_Brooklyn_Property_Sales.columns:\n",
    "    df_BrooklynProperty_Sales['GROSS SQUARE FEET'].fillna(0, inplace=True)\n",
    "\n",
    "# Final check\n",
    "print(\"\\nData types after cleaning:\")\n",
    "print(df_Brooklyn_Property_Sales.info())"
   ]
  },
  {
   "cell_type": "code",
   "execution_count": 29,
   "id": "c7b1bce2-03ab-44dd-bc23-4f6374e13009",
   "metadata": {},
   "outputs": [
    {
     "name": "stdout",
     "output_type": "stream",
     "text": [
      "\n",
      "--- Standardisation Airbnb ---\n"
     ]
    }
   ],
   "source": [
    "# --- Dealing with inconsistencies and standardisation ---\n",
    "if df_airbnb is not None:\n",
    " print(\"\\n--- Standardisation Airbnb ---\")\n",
    "    # Standardise the names of neighbourhoods and boroughs (“neighbourhood_group”) [3]\n",
    "    # Convert to lower case and remove leading/leading white space\n",
    " df_airbnb['neighbourhood'] = df_airbnb['neighbourhood'].str.strip().str.lower()\n",
    " df_airbnb['neighbourhood_group'] = df_airbnb['neighbourhood_group'].str.strip().str.lower()\n",
    "\n",
    "    # You might want to check the unique values to identify typos or variations\n",
    "    # print(df_airbnb[“neighbourhood”].unique())\n",
    "    # print(df_airbnb[“neighbourhood_group”].unique())\n",
    "    # Use .replace() if manual corrections are required [my previous response]"
   ]
  },
  {
   "cell_type": "code",
   "execution_count": 30,
   "id": "18b30917-7d8d-48e7-b237-0a73a6f89e4d",
   "metadata": {},
   "outputs": [
    {
     "name": "stdout",
     "output_type": "stream",
     "text": [
      "\n",
      "--- Standardisation Manhattan Property Sales ---\n",
      "\n",
      "Single values after standardisation:\n",
      "Neighbourhoods: ['alphabet city' 'chelsea' 'chinatown' 'civic center' 'clinton'\n",
      " 'east village' 'fashion' 'financial' 'flatiron' 'gramercy']\n",
      "Boroughs: ['manhattan']\n"
     ]
    }
   ],
   "source": [
    "# --- Standardisation Manhattan Property Sales ---\n",
    "if df_Manhattan_Property_Sales is not None:\n",
    "    print(\"\\n--- Standardisation Manhattan Property Sales ---\")\n",
    "    \n",
    "    # Checking column names\n",
    "    neighborhood_col = 'NEIGHBORHOOD' if 'NEIGHBORHOOD' in df_Manhattan_Property_Sales.columns else 'Neighborhood'\n",
    "    borough_col = 'BOROUGH' if 'BOROUGH' in df_Manhattan_Property_Sales.columns else 'Borough'\n",
    "    \n",
    "    # Standardisation of district names\n",
    "    if neighborhood_col in df_Manhattan_Property_Sales.columns:\n",
    "        df_Manhattan_Property_Sales[neighborhood_col] = df_Manhattan_Property_Sales[neighborhood_col].str.strip().str.lower()\n",
    "    \n",
    "    # Standardisation of borough names\n",
    "    if borough_col in df_Manhattan_Property_Sales.columns:\n",
    "        # Conversion to string and cleaning\n",
    "        df_Manhattan_Property_Sales[borough_col] = df_Manhattan_Property_Sales[borough_col].astype(str).str.strip().str.lower()\n",
    "        \n",
    "        # Mapping numeric codes to names\n",
    "        borough_mapping = {\n",
    "            '1': 'manhattan',\n",
    "            '2': 'bronx', \n",
    "            '3': 'brooklyn',\n",
    "            '4': 'queens',\n",
    "            '5': 'staten island'\n",
    "        }\n",
    "        df_Manhattan_Property_Sales[borough_col] = df_Manhattan_Property_Sales[borough_col].replace(borough_mapping)\n",
    "    \n",
    "    # Display of single values for verification\n",
    "    print(\"\\nSingle values after standardisation:\")\n",
    "    if neighborhood_col in df_Manhattan_Property_Sales.columns:\n",
    "        print(\"Neighbourhoods:\", df_Manhattan_Property_Sales[neighborhood_col].unique()[:10])  # Displays the top 10\n",
    "    if borough_col in df_Manhattan_Property_Sales.columns:\n",
    "        print(\"Boroughs:\", df_Manhattan_Property_Sales[borough_col].unique())"
   ]
  },
  {
   "cell_type": "code",
   "execution_count": 31,
   "id": "63f825fc-c746-4746-a98f-182210c84092",
   "metadata": {},
   "outputs": [
    {
     "name": "stdout",
     "output_type": "stream",
     "text": [
      "\n",
      "--- Standardisation Brooklyn Property Sales ---\n",
      "\n",
      "Single values after standardisation:\n",
      "Neighbourhoods: ['bath beach' 'bay ridge' 'bedford stuyvesant' 'bensonhurst'\n",
      " 'bergen beach' 'boerum hill' 'borough park' 'brighton beach'\n",
      " 'brooklyn heights' 'brownsville']\n",
      "Boroughs: ['3.0']\n"
     ]
    }
   ],
   "source": [
    "# --- Standardisation Brooklyn Property Sales ---\n",
    "if df_Brooklyn_Property_Sales is not None:\n",
    "    print(\"\\n--- Standardisation Brooklyn Property Sales ---\")\n",
    "    \n",
    "    # Checking column names\n",
    "    neighborhood_col = 'NEIGHBORHOOD' if 'NEIGHBORHOOD' in df_Brooklyn_Property_Sales.columns else 'Neighborhood'\n",
    "    borough_col = 'BOROUGH' if 'BOROUGH' in df_Brooklyn_Property_Sales.columns else 'Borough'\n",
    "    \n",
    "    # Standardisation des noms de quartiers\n",
    "    if neighborhood_col in df_Brooklyn_Property_Sales.columns:\n",
    "        df_Brooklyn_Property_Sales[neighborhood_col] = df_Brooklyn_Property_Sales[neighborhood_col].str.strip().str.lower()\n",
    "    \n",
    "    # Standardisation of district names\n",
    "    if borough_col in df_Brooklyn_Property_Sales.columns:\n",
    "        # Conversion to string and cleaning\n",
    "        df_Brooklyn_Property_Sales[borough_col] = df_Brooklyn_Property_Sales[borough_col].astype(str).str.strip().str.lower()\n",
    "        \n",
    "        # Mapping numeric codes to names\n",
    "        borough_mapping = {\n",
    "            '1': 'manhattan',\n",
    "            '2': 'bronx', \n",
    "            '3': 'brooklyn',\n",
    "            '4': 'queens',\n",
    "            '5': 'staten island'\n",
    "        }\n",
    "        df_Brooklyn_Property_Sales[borough_col] = df_Brooklyn_Property_Sales[borough_col].replace(borough_mapping)\n",
    "    \n",
    "    # Display of single values for verification\n",
    "    print(\"\\nSingle values after standardisation:\")\n",
    "    if neighborhood_col in df_Brooklyn_Property_Sales.columns:\n",
    "        print(\"Neighbourhoods:\", df_Brooklyn_Property_Sales[neighborhood_col].unique()[:10])  # Display the top 10\n",
    "    if borough_col in df_Brooklyn_Property_Sales.columns:\n",
    "        print(\"Boroughs:\", df_Brooklyn_Property_Sales[borough_col].unique())"
   ]
  },
  {
   "cell_type": "code",
   "execution_count": 32,
   "id": "99b2b820-54ac-46dd-a1b3-8225995aea05",
   "metadata": {},
   "outputs": [
    {
     "name": "stdout",
     "output_type": "stream",
     "text": [
      "\n",
      "--- Analysis of Airbnb outliers ---\n"
     ]
    }
   ],
   "source": [
    "# --- Identifying and managing outliers ---\n",
    "# Outliers are common in prices (Airbnb and sales) and surfaces. [3, 4, 6, 7]\n",
    "# The approach (remove, transform, or leave) depends on the analysis.\n",
    "# For ROI calculations, extreme sale or rental prices can distort averages. [6, 7]\n",
    "\n",
    "if df_airbnb is not None:\n",
    " print(\"\\n--- Analysis of Airbnb outliers ---\")\n",
    "    # Analyse 'price\n",
    "    # You could use a boxplot to visualise (requires matplotlib/seaborn) [my previous response]\n",
    "    # import matplotlib.pyplot as plt\n",
    "    # import seaborn as sns\n",
    "    # sns.boxplot(x=df_airbnb[“price”])\n",
    "    # plt.show()\n",
    "\n",
    "    # Identify extreme values (e.g. price > 10000 or very low <= 10)\n",
    "    # print(df_airbnb[df_airbnb[“price”] > 10000].shape)\n",
    "    # print(df_airbnb[df_airbnb[“price”] <= 10].shape)\n",
    "\n",
    "    # Decision: Remove prices considered unrealistic for a standard analysis\n",
    " df_airbnb = df_airbnb[(df_airbnb['price'] > 10) & (df_airbnb['price'] < 10000)] # Example of thresholds, to be adjusted"
   ]
  },
  {
   "cell_type": "code",
   "execution_count": 33,
   "id": "d569d053-8202-4ca5-8a1f-7cf952ac8693",
   "metadata": {},
   "outputs": [
    {
     "name": "stdout",
     "output_type": "stream",
     "text": [
      "\n",
      "--- Analysis of Brooklyn_Property_Sales outliers ---\n"
     ]
    }
   ],
   "source": [
    "if df_Brooklyn_Property_Sales is not None:\n",
    " print(\"\\n--- Analysis of Brooklyn_Property_Sales outliers ---\")\n",
    "    # Analyse “SALE PRICE” and surface columns (“GROSS SQUARE FEET”, etc.) [4, 6, 7].\n",
    "    # Visualise with boxplots if possible.\n",
    "    # sns.boxplot(x=df_Brooklyn_Property_Sales[“SALE PRICE”])\n",
    "    # plt.show()\n",
    "\n",
    "    # Identify extreme values. Very low or very high prices often require investigation.\n",
    "    # print(df_Brooklyn_Property_Sales[df_Brooklyn_Property_Sales[“SALE PRICE”] > 10000000].shape) # Example of a threshold for very high values\n",
    "    # print(df_Brooklyn_Property_Sales[df_Brooklyn_Property_Sales[“GROSS SQUARE FEET”] > 10000].shape) # Example of threshold for large surfaces\n",
    "\n",
    "    # Decision: Delete lines with sales prices or surface areas that seem unrealistic\n",
    "    # df_Brooklyn_Property_Sales = df_Brooklyn_Property_Sales[df_Brooklyn_Property_Sales[“SALE PRICE”] < 100000000] # Example of removing extremely high prices\n",
    "    # df_Brooklyn_Property_Sales = df_Brooklyn_Property_Sales[df_Brooklyn_Property_Sales[“GROSS SQUARE FEET”] < 100000] # Example of the removal of extremely large areas"
   ]
  },
  {
   "cell_type": "code",
   "execution_count": 34,
   "id": "ffe64f92-6677-4cdf-b248-e1b525bb306a",
   "metadata": {},
   "outputs": [
    {
     "name": "stdout",
     "output_type": "stream",
     "text": [
      "\n",
      "--- Analysis of Manhattan_Property_Sales outliers ---\n"
     ]
    }
   ],
   "source": [
    "if df_Manhattan_Property_Sales is not None:\n",
    " print(\"\\n--- Analysis of Manhattan_Property_Sales outliers ---\")\n",
    "    # Analyse “SALE PRICE” and surface columns (“GROSS SQUARE FEET”, etc.) [4, 6, 7].\n",
    "    # Visualise with boxplots if possible.\n",
    "    # sns.boxplot(x=df_Manhattan_Property_Sales[“SALE PRICE”])\n",
    "    # plt.show()\n",
    "\n",
    "    # Identify extreme values. Very low or very high prices often require investigation.\n",
    "    # print(df_Manhattan_Property_Sales[df_Manhattan_Property_Sales[“SALE PRICE”] > 10000000].shape) # Example of a threshold for very high values\n",
    "    # print(df_Manhattan_Property_Sales[df_Manhattan_Property_Sales[“GROSS SQUARE FEET”] > 10000].shape) # Example of threshold for large surfaces\n",
    "\n",
    "    # Decision: Delete lines with sales prices or surface areas that seem unrealistic\n",
    "    # df_Manhattan_Property_Sales = df_Manhattan_Property_Sales[df_Manhattan_Property_Sales[“SALE PRICE”] < 100000000] # Example of removing extremely high prices\n",
    "    # df_Manhattan_Property_Sales = df_Manhattan_Property_Sales[df_Manhattan_Property_Sales[“GROSS SQUARE FEET”] < 100000] # Example of the removal of extremely large areas"
   ]
  },
  {
   "cell_type": "code",
   "execution_count": 35,
   "id": "4bc52793-da10-4d1b-82c9-40fa158fd7c8",
   "metadata": {},
   "outputs": [],
   "source": [
    "# --- Final preparation ---\n",
    "# Rename columns if necessary for clarity or SQL compatibility\n",
    "if df_airbnb is not None:\n",
    " df_airbnb.rename(columns={'neighbourhood_group': 'borough'}, inplace=True) # Potentially align with other dataset name [4]"
   ]
  },
  {
   "cell_type": "code",
   "execution_count": 36,
   "id": "e89cd86e-e5ad-4e3a-80a5-26cdc4d13eae",
   "metadata": {},
   "outputs": [],
   "source": [
    "if df_Brooklyn_Property_Sales is not None:\n",
    "    df_Brooklyn_Property_Sales.rename(columns={'BOROUGH': 'borough', 'NEIGHBORHOOD': 'neighbourhood'}, inplace=True) # Aligner potentiellement les noms [3]"
   ]
  },
  {
   "cell_type": "code",
   "execution_count": 37,
   "id": "c36507f8-c3d5-4f8e-ad21-774a8cbe95c5",
   "metadata": {},
   "outputs": [],
   "source": [
    "if df_Manhattan_Property_Sales is not None:\n",
    "    df_Manhattan_Property_Sales.rename(columns={'BOROUGH': 'borough', 'NEIGHBORHOOD': 'neighbourhood'}, inplace=True) # Aligner potentiellement les noms [3]"
   ]
  },
  {
   "cell_type": "code",
   "execution_count": 38,
   "id": "da426096-1256-4288-b154-dc9c8df97e43",
   "metadata": {},
   "outputs": [],
   "source": [
    "# Select only the columns needed for analysis and ROI calculation\n",
    "if df_airbnb is not None:\n",
    "    airbnb_cols_for_analysis = [\n",
    "        'id', \n",
    "        'name', \n",
    "        'host_id', \n",
    "        'borough', \n",
    "        'neighbourhood', \n",
    "        'latitude', \n",
    "        'longitude',\n",
    "        'room_type', \n",
    "        'price', \n",
    "        'minimum_nights', \n",
    "        'number_of_reviews',\n",
    "        'reviews_per_month', \n",
    "        'calculated_host_listings_count', \n",
    "        'availability_365'\n",
    "    ]\n",
    "    df_airbnb_cleaned = df_airbnb[airbnb_cols_for_analysis]"
   ]
  },
  {
   "cell_type": "code",
   "execution_count": 39,
   "id": "04817d50-65f7-4f54-99f7-155f2317acb0",
   "metadata": {},
   "outputs": [],
   "source": [
    "if df_Manhattan_Property_Sales is not None:\n",
    "    Manhattan_Property_Sales_cols_for_analysis = ['BOROUGH', 'NEIGHBORHOOD', 'BUILDING CLASS CATEGORY', 'SALE DATE', 'SALE PRICE',\n",
    "                                  'GROSS SQUARE FEET', 'LAND SQUARE FEET'] # [4] and potentially useful columns for the cost of acquisition [6, 7].\n",
    "    # Use the original or renamed column names from the previous step\n",
    "    Manhattan_Property_Sales_cols_for_analysis_renamed = ['borough', 'neighbourhood', 'BUILDING CLASS CATEGORY', 'SALE DATE', 'SALE PRICE',\n",
    "                                           'GROSS SQUARE FEET', 'LAND SQUARE FEET']\n",
    "    # Make sure that the renamed columns exist before selecting\n",
    "    cols_to_select = [col for col in Manhattan_Property_Sales_cols_for_analysis_renamed if col in df_Manhattan_Property_Sales.columns]\n",
    "    df_Manhattan_Property_Salescleaned = df_Manhattan_Property_Sales[cols_to_select]\n"
   ]
  },
  {
   "cell_type": "code",
   "execution_count": 40,
   "id": "fd9d612e-2d5d-46a9-8e65-743df2ec6e46",
   "metadata": {},
   "outputs": [],
   "source": [
    "if df_Brooklyn_Property_Sales is not None:\n",
    "    Brooklyn_Property_Sales_cols_for_analysis = ['BOROUGH', 'NEIGHBORHOOD', 'BUILDING CLASS CATEGORY', 'SALE DATE', 'SALE PRICE',\n",
    "                                  'GROSS SQUARE FEET', 'LAND SQUARE FEET'] # [4] and potentially useful columns for the cost of acquisition [6, 7].\n",
    "   # Use the original or renamed column names from the previous step\n",
    "    Brooklyn_Property_Sales_cols_for_analysis_renamed = ['borough', 'neighbourhood', 'BUILDING CLASS CATEGORY', 'SALE DATE', 'SALE PRICE',\n",
    "                                           'GROSS SQUARE FEET', 'LAND SQUARE FEET']\n",
    "    # Make sure that the renamed columns exist before selecting\n",
    "    cols_to_select = [col for col in Brooklyn_Property_Sales_cols_for_analysis_renamed if col in df_Brooklyn_Property_Sales.columns]\n",
    "    df_Brooklyn_Property_Salescleaned = df_Brooklyn_Property_Sales[cols_to_select]\n"
   ]
  },
  {
   "cell_type": "code",
   "execution_count": 41,
   "id": "cfe29a60-299a-4aed-82d1-25ad801efd3b",
   "metadata": {},
   "outputs": [
    {
     "name": "stdout",
     "output_type": "stream",
     "text": [
      "\n",
      "--- Dataset Airbnb cleaned (preview) ---\n",
      "     id                                              name  host_id    borough  \\\n",
      "0  2539                Clean & quiet apt home by the park     2787   brooklyn   \n",
      "1  2595                             Skylit Midtown Castle     2845  manhattan   \n",
      "2  3647               THE VILLAGE OF HARLEM....NEW YORK !     4632  manhattan   \n",
      "3  3831                   Cozy Entire Floor of Brownstone     4869   brooklyn   \n",
      "4  5022  Entire Apt: Spacious Studio/Loft by central park     7192  manhattan   \n",
      "\n",
      "  neighbourhood  latitude  longitude        room_type  price  minimum_nights  \\\n",
      "0    kensington  40.64749  -73.97237     Private room  149.0               1   \n",
      "1       midtown  40.75362  -73.98377  Entire home/apt  225.0               1   \n",
      "2        harlem  40.80902  -73.94190     Private room  150.0               3   \n",
      "3  clinton hill  40.68514  -73.95976  Entire home/apt   89.0               1   \n",
      "4   east harlem  40.79851  -73.94399  Entire home/apt   80.0              10   \n",
      "\n",
      "   number_of_reviews  reviews_per_month  calculated_host_listings_count  \\\n",
      "0                  9               0.21                               6   \n",
      "1                 45               0.38                               2   \n",
      "2                  0               0.00                               1   \n",
      "3                270               4.64                               1   \n",
      "4                  9               0.10                               1   \n",
      "\n",
      "   availability_365  \n",
      "0               365  \n",
      "1               355  \n",
      "2               365  \n",
      "3               194  \n",
      "4                 0  \n",
      "<class 'pandas.core.frame.DataFrame'>\n",
      "Index: 48864 entries, 0 to 48894\n",
      "Data columns (total 14 columns):\n",
      " #   Column                          Non-Null Count  Dtype  \n",
      "---  ------                          --------------  -----  \n",
      " 0   id                              48864 non-null  int64  \n",
      " 1   name                            48848 non-null  object \n",
      " 2   host_id                         48864 non-null  int64  \n",
      " 3   borough                         48864 non-null  object \n",
      " 4   neighbourhood                   48864 non-null  object \n",
      " 5   latitude                        48864 non-null  float64\n",
      " 6   longitude                       48864 non-null  float64\n",
      " 7   room_type                       48864 non-null  object \n",
      " 8   price                           48864 non-null  float64\n",
      " 9   minimum_nights                  48864 non-null  int64  \n",
      " 10  number_of_reviews               48864 non-null  int64  \n",
      " 11  reviews_per_month               48864 non-null  float64\n",
      " 12  calculated_host_listings_count  48864 non-null  int64  \n",
      " 13  availability_365                48864 non-null  int64  \n",
      "dtypes: float64(4), int64(6), object(4)\n",
      "memory usage: 5.6+ MB\n",
      "None\n",
      "\n",
      "--- Dataset Brooklyn Property Sales cleaned (preview) ---\n",
      "   Borough Neighborhood  Building Class Category Tax Class At Present   Block  \\\n",
      "4      3.0   bath beach  01 ONE FAMILY DWELLINGS                    1  6367.0   \n",
      "5      3.0   bath beach  01 ONE FAMILY DWELLINGS                    1  6367.0   \n",
      "8      3.0   bath beach  01 ONE FAMILY DWELLINGS                    1  6377.0   \n",
      "10     3.0   bath beach  01 ONE FAMILY DWELLINGS                    1  6397.0   \n",
      "11     3.0   bath beach  01 ONE FAMILY DWELLINGS                    1  6401.0   \n",
      "\n",
      "     Lot  Ease-Ment Building Class At Present             Address  \\\n",
      "4   42.0        NaN                        S1    1730 86TH STREET   \n",
      "5   43.0        NaN                        S1    1732 86TH STREET   \n",
      "8   32.0        NaN                        A9  23 BAY 26TH STREET   \n",
      "10  63.0        NaN                        A2   132 BAY 13 STREET   \n",
      "11  10.0        NaN                        S1    1725 BATH AVENUE   \n",
      "\n",
      "   Apartment Number  ...  Residential Units  Commercial Units  Total Units  \\\n",
      "4               NaN  ...                1.0               1.0          2.0   \n",
      "5               NaN  ...                1.0               1.0          2.0   \n",
      "8               NaN  ...                1.0               0.0          1.0   \n",
      "10              NaN  ...                1.0               0.0          1.0   \n",
      "11              NaN  ...                1.0               1.0          2.0   \n",
      "\n",
      "    Land Square Feet  Gross Square Feet  Year Built  \\\n",
      "4             1342.0             1920.0      1926.0   \n",
      "5             1342.0             1920.0      1926.0   \n",
      "8             3867.0             2288.0      1899.0   \n",
      "10            2708.0              730.0      1910.0   \n",
      "11            1160.0             2320.0      1920.0   \n",
      "\n",
      "    Tax Class At Time Of Sale  Building Class At Time Of Sale Sale Price  \\\n",
      "4                         1.0                              S1  1630000.0   \n",
      "5                         1.0                              S1  1630000.0   \n",
      "8                         1.0                              A9  1200000.0   \n",
      "10                        1.0                              A2  1150000.0   \n",
      "11                        1.0                              S1   980000.0   \n",
      "\n",
      "              Sale Date  \n",
      "4   2019-02-08 00:00:00  \n",
      "5   2019-02-08 00:00:00  \n",
      "8   2019-09-20 00:00:00  \n",
      "10  2019-03-28 00:00:00  \n",
      "11  2019-02-21 00:00:00  \n",
      "\n",
      "[5 rows x 21 columns]\n",
      "<class 'pandas.core.frame.DataFrame'>\n",
      "Index: 15019 entries, 4 to 23275\n",
      "Data columns (total 21 columns):\n",
      " #   Column                          Non-Null Count  Dtype  \n",
      "---  ------                          --------------  -----  \n",
      " 0   Borough                         15019 non-null  object \n",
      " 1   Neighborhood                    15019 non-null  object \n",
      " 2   Building Class Category         15019 non-null  object \n",
      " 3   Tax Class At Present            15006 non-null  object \n",
      " 4   Block                           15019 non-null  float64\n",
      " 5   Lot                             15019 non-null  float64\n",
      " 6   Ease-Ment                       0 non-null      float64\n",
      " 7   Building Class At Present       15006 non-null  object \n",
      " 8   Address                         15019 non-null  object \n",
      " 9   Apartment Number                4709 non-null   object \n",
      " 10  Zip Code                        15019 non-null  float64\n",
      " 11  Residential Units               12772 non-null  float64\n",
      " 12  Commercial Units                12772 non-null  float64\n",
      " 13  Total Units                     12772 non-null  float64\n",
      " 14  Land Square Feet                12772 non-null  float64\n",
      " 15  Gross Square Feet               12772 non-null  float64\n",
      " 16  Year Built                      13902 non-null  float64\n",
      " 17  Tax Class At Time Of Sale       15019 non-null  float64\n",
      " 18  Building Class At Time Of Sale  15019 non-null  object \n",
      " 19  Sale Price                      15019 non-null  float64\n",
      " 20  Sale Date                       15019 non-null  object \n",
      "dtypes: float64(12), object(9)\n",
      "memory usage: 2.5+ MB\n",
      "None\n",
      "\n",
      "--- Dataset Manhattan Property Sales cleaned (preview) ---\n",
      "     Borough   Neighborhood         Building Class Category  \\\n",
      "0  manhattan  alphabet city         01 ONE FAMILY DWELLINGS   \n",
      "3  manhattan  alphabet city       03 THREE FAMILY DWELLINGS   \n",
      "5  manhattan  alphabet city  07 RENTALS - WALKUP APARTMENTS   \n",
      "6  manhattan  alphabet city  07 RENTALS - WALKUP APARTMENTS   \n",
      "8  manhattan  alphabet city  07 RENTALS - WALKUP APARTMENTS   \n",
      "\n",
      "  Tax Class As Of Final Roll 18/1  Block  Lot  Ease-Ment  \\\n",
      "0                               1    376   43        NaN   \n",
      "3                               1    377   56        NaN   \n",
      "5                               2    372   23        NaN   \n",
      "6                               2    373   19        NaN   \n",
      "8                              2A    376   23        NaN   \n",
      "\n",
      "  Building Class As Of Final Roll 18/1                 Address  \\\n",
      "0                                   S1     743 EAST 6TH STREET   \n",
      "3                                   C0     263 EAST 7TH STREET   \n",
      "5                                   C1     300 EAST 3RD STREET   \n",
      "6                                   C7     332 EAST 4TH STREET   \n",
      "8                                   C3  262 EAST 7TH STREET, 4   \n",
      "\n",
      "  Apartment Number  ...  Residential Units  Commercial Units  Total Units  \\\n",
      "0              NaN  ...                1.0               1.0          2.0   \n",
      "3              NaN  ...                3.0               0.0          3.0   \n",
      "5              NaN  ...               12.0               0.0         12.0   \n",
      "6              NaN  ...               28.0               2.0         30.0   \n",
      "8              NaN  ...                4.0               0.0          4.0   \n",
      "\n",
      "   Land Square Feet  Gross Square Feet  Year Built  Tax Class At Time Of Sale  \\\n",
      "0            2090.0             3680.0      1940.0                          1   \n",
      "3            2430.0             3600.0      1899.0                          1   \n",
      "5            2393.0             7989.0      2001.0                          2   \n",
      "6            4651.0            17478.0      1920.0                          2   \n",
      "8            2059.0             4154.0      1900.0                          2   \n",
      "\n",
      "   Building Class At Time Of Sale Sale Price            Sale Date  \n",
      "0                              S1    3200000  2019-07-24 00:00:00  \n",
      "3                              C0    6300000  2019-04-30 00:00:00  \n",
      "5                              C1    1950000  2019-08-08 00:00:00  \n",
      "6                              C7   14000000  2019-01-09 00:00:00  \n",
      "8                              C3     600000  2019-12-12 00:00:00  \n",
      "\n",
      "[5 rows x 21 columns]\n",
      "<class 'pandas.core.frame.DataFrame'>\n",
      "Index: 13817 entries, 0 to 17582\n",
      "Data columns (total 21 columns):\n",
      " #   Column                                Non-Null Count  Dtype  \n",
      "---  ------                                --------------  -----  \n",
      " 0   Borough                               13817 non-null  object \n",
      " 1   Neighborhood                          13817 non-null  object \n",
      " 2   Building Class Category               13817 non-null  object \n",
      " 3   Tax Class As Of Final Roll 18/1       13808 non-null  object \n",
      " 4   Block                                 13817 non-null  int64  \n",
      " 5   Lot                                   13817 non-null  int64  \n",
      " 6   Ease-Ment                             0 non-null      float64\n",
      " 7   Building Class As Of Final Roll 18/1  13808 non-null  object \n",
      " 8   Address                               13817 non-null  object \n",
      " 9   Apartment Number                      6161 non-null   object \n",
      " 10  Zip Code                              13817 non-null  int64  \n",
      " 11  Residential Units                     7187 non-null   float64\n",
      " 12  Commercial Units                      7187 non-null   float64\n",
      " 13  Total Units                           7187 non-null   float64\n",
      " 14  Land Square Feet                      7187 non-null   float64\n",
      " 15  Gross Square Feet                     7187 non-null   float64\n",
      " 16  Year Built                            12488 non-null  float64\n",
      " 17  Tax Class At Time Of Sale             13817 non-null  int64  \n",
      " 18  Building Class At Time Of Sale        13817 non-null  object \n",
      " 19  Sale Price                            13817 non-null  int64  \n",
      " 20  Sale Date                             13817 non-null  object \n",
      "dtypes: float64(7), int64(5), object(9)\n",
      "memory usage: 2.3+ MB\n",
      "None\n"
     ]
    }
   ],
   "source": [
    "# Display a preview of the cleaned data\n",
    "if df_airbnb is not None:\n",
    "    print(\"\\n--- Dataset Airbnb cleaned (preview) ---\")\n",
    "    print(df_airbnb_cleaned.head())\n",
    "    print(df_airbnb_cleaned.info()) # Check the final types\n",
    "\n",
    "if df_Brooklyn_Property_Sales is not None:\n",
    "    print(\"\\n--- Dataset Brooklyn Property Sales cleaned (preview) ---\")\n",
    "    # Use the original or cleaned dataframe depending on what you actually have\n",
    "    print(df_Brooklyn_Property_Sales.head())  # or the correct name of your cleaned dataframe\n",
    "    print(df_Brooklyn_Property_Sales.info())\n",
    "\n",
    "if df_Manhattan_Property_Sales is not None:  \n",
    "    print(\"\\n--- Dataset Manhattan Property Sales cleaned (preview) ---\")\n",
    "    print(df_Manhattan_Property_Sales.head())  \n",
    "    print(df_Manhattan_Property_Sales.info())\n",
    "\n",
    "# Optional backup\n",
    "# if 'df_airbnb_cleaned' in locals():\n",
    "#     df_airbnb_cleaned.to_csv(\"airbnb_cleaned.csv\", index=False)\n",
    "# if 'df_Manhattan_Property_Sales' in locals():\n",
    "#     df_Manhattan_Property_Sales.to_csv(\"manhattan_properties_cleaned.csv\", index=False)\n",
    "# if 'df_Brooklyn_Property_Sales' in locals():\n",
    "#     df_Brooklyn_Property_Sales.to_csv(\"brooklyn_properties_cleaned.csv\", index=False)"
   ]
  },
  {
   "cell_type": "code",
   "execution_count": 42,
   "id": "26ce21b2-1075-4b18-ac44-6c0f84a597f9",
   "metadata": {},
   "outputs": [
    {
     "data": {
      "text/html": [
       "Path (<tt>airbnb_cleaned.csv</tt>) doesn't exist. It may still be in the process of being generated, or you may have the incorrect path."
      ],
      "text/plain": [
       "c:\\Users\\Santi\\Documents\\Ironhack\\Quests\\Mini-Project---SQL-From-Data-to-Insight\\airbnb_cleaned.csv"
      ]
     },
     "metadata": {},
     "output_type": "display_data"
    },
    {
     "data": {
      "text/html": [
       "Path (<tt>manhattan_properties_cleaned.csv</tt>) doesn't exist. It may still be in the process of being generated, or you may have the incorrect path."
      ],
      "text/plain": [
       "c:\\Users\\Santi\\Documents\\Ironhack\\Quests\\Mini-Project---SQL-From-Data-to-Insight\\manhattan_properties_cleaned.csv"
      ]
     },
     "metadata": {},
     "output_type": "display_data"
    },
    {
     "data": {
      "text/html": [
       "Path (<tt>brooklyn_properties_cleaned.csv</tt>) doesn't exist. It may still be in the process of being generated, or you may have the incorrect path."
      ],
      "text/plain": [
       "c:\\Users\\Santi\\Documents\\Ironhack\\Quests\\Mini-Project---SQL-From-Data-to-Insight\\brooklyn_properties_cleaned.csv"
      ]
     },
     "metadata": {},
     "output_type": "display_data"
    }
   ],
   "source": [
    "from IPython.display import FileLink\n",
    "\n",
    "# Creating download links\n",
    "if 'df_airbnb_cleaned' in locals():\n",
    "    df_airbnb_cleaned.to_csv(\"2019_airbnb_cleaned.csv\", index=False)\n",
    "    display(FileLink(\"airbnb_cleaned.csv\", result_html_prefix=\"Télécharger Airbnb: \"))\n",
    "\n",
    "if 'df_Manhattan_Property_Sales' in locals():\n",
    "    df_Manhattan_Property_Sales.to_csv(\"2019_manhattan_properties_cleaned.csv\", index=False)\n",
    "    display(FileLink(\"manhattan_properties_cleaned.csv\", result_html_prefix=\"Télécharger Manhattan: \"))\n",
    "\n",
    "if 'df_Brooklyn_Property_Sales' in locals():\n",
    "    df_Brooklyn_Property_Sales.to_csv(\"2019_brooklyn_properties_cleaned.csv\", index=False)\n",
    "    display(FileLink(\"brooklyn_properties_cleaned.csv\", result_html_prefix=\"Télécharger Brooklyn: \"))"
   ]
  },
  {
   "cell_type": "code",
   "execution_count": 8,
   "id": "ceb17b60",
   "metadata": {},
   "outputs": [],
   "source": [
    "clean_airbnb_file_path = r'Data\\Clean\\2019_airbnb_cleaned.csv'\n",
    "clean_manhattan_file_path = r'Data\\Clean\\2019_manhattan_properties_cleaned.csv'\n",
    "clean_brooklyn_file_path = r'Data\\Clean\\2019_brooklyn_properties_cleaned.csv'\n",
    "df = pd.DataFrame()\n",
    "manhattan_df = pd.DataFrame()\n",
    "brooklyn_df = pd.DataFrame()\n",
    "scaler = StandardScaler()"
   ]
  },
  {
   "cell_type": "code",
   "execution_count": 9,
   "id": "05b5e82f",
   "metadata": {},
   "outputs": [],
   "source": [
    "def inicialize():\n",
    "    global df \n",
    "    df = pd.read_csv(clean_airbnb_file_path)\n",
    "    global manhattan_df\n",
    "    manhattan_df = pd.read_csv(clean_manhattan_file_path)\n",
    "    global brooklyn_df\n",
    "    brooklyn_df = pd.read_csv(clean_brooklyn_file_path)"
   ]
  },
  {
   "cell_type": "code",
   "execution_count": 10,
   "id": "14e45e86",
   "metadata": {},
   "outputs": [],
   "source": [
    "def get_z_prices(dataframe):\n",
    "    analysis_df = dataframe[['id', 'borough','neighbourhood', 'host_id', 'price','availability_365']].copy()\n",
    "    return analysis_df"
   ]
  },
  {
   "cell_type": "code",
   "execution_count": 11,
   "id": "cd606396",
   "metadata": {},
   "outputs": [],
   "source": [
    "def get_borough_name(value):\n",
    "    if isinstance(value, str) and not value.isdigit():\n",
    "        return value.lower()\n",
    "    \n",
    "    borough_mapping = {\n",
    "        1: 'manhattan',\n",
    "        2: 'bronx', \n",
    "        3: 'brooklyn',\n",
    "        4: 'queens',\n",
    "        5: 'staten island'\n",
    "    }\n",
    "    \n",
    "    try:\n",
    "        return borough_mapping[int(value)]\n",
    "    except (ValueError, KeyError):\n",
    "        return None\n",
    "        "
   ]
  },
  {
   "cell_type": "code",
   "execution_count": null,
   "id": "38d59b1f",
   "metadata": {},
   "outputs": [],
   "source": [
    "def fill_column_with_average(dataframe,column_name):\n",
    "    grp = dataframe.groupby('Neighborhood')[column_name].mean()\n",
    "    # create a condition to only update rows with 0 or NaN\n",
    "    mask = (dataframe[column_name] == 0) | (dataframe[column_name].isna())\n",
    "    #find the values and change them to map the average\n",
    "    dataframe.loc[mask, column_name] = dataframe.loc[mask, 'Neighborhood'].map(grp)\n",
    "    return dataframe"
   ]
  },
  {
   "cell_type": "code",
   "execution_count": 12,
   "id": "1a88b42e",
   "metadata": {},
   "outputs": [],
   "source": [
    "def get_clean_df(dataframe):\n",
    "    dataframe = dataframe[['Sale Date','Borough','Neighborhood','Residential Units', 'Gross Square Feet','Sale Price']].copy()\n",
    "    dataframe['Borough'] = dataframe['Borough'].apply(get_borough_name)\n",
    "    dataframe = dataframe.loc[dataframe['Sale Price'] != 0]\n",
    "    dataframe['Sale Price'].dropna()\n",
    "    return dataframe"
   ]
  },
  {
   "cell_type": "code",
   "execution_count": 41,
   "id": "6d79bb9e",
   "metadata": {},
   "outputs": [],
   "source": [
    "def get_clean_new_york_df():\n",
    "    new_york_df = pd.concat([get_clean_df(manhattan_df),get_clean_df(brooklyn_df)])\n",
    "    new_york_df = fill_column_with_average(new_york_df,'Gross Square Feet')\n",
    "    new_york_df = fill_column_with_average(new_york_df,'Residential Units')\n",
    "    return new_york_df"
   ]
  },
  {
   "cell_type": "code",
   "execution_count": 13,
   "id": "b3b50536",
   "metadata": {},
   "outputs": [],
   "source": [
    "def main():\n",
    "    inicialize()\n",
    "    final_df = get_z_prices(df)\n",
    "    final_df.to_csv('NYC_Airbnb_2019.csv')\n",
    "    new_york_2019_df = get_clean_new_york_df()\n",
    "    new_york_2019_df.to_csv('NYC_Housing_2019.csv')"
   ]
  },
  {
   "cell_type": "code",
   "execution_count": 42,
   "id": "77b29b0c",
   "metadata": {},
   "outputs": [],
   "source": [
    "main()"
   ]
  },
  {
   "cell_type": "code",
   "execution_count": 94,
   "id": "9cac9add",
   "metadata": {},
   "outputs": [],
   "source": [
    "roi_df = pd.read_csv(r'Data\\Analysis\\ROI per neighbourhood.csv')\n",
    "comparison_df = pd.read_csv(r'Data\\Analysis\\ROI percent comparison.csv')\n",
    "full_roi = pd.merge(left=roi_df, right=comparison_df, how='left', on='neighborhood').drop(['roi_percentage_y','borough_y'], axis=1)\n",
    "\n",
    "house_costs_df = pd.read_csv(r'Data\\Analysis\\House cost per neighbourhood.csv')\n",
    "house_market_share = pd.read_csv(r'Data\\Analysis\\House market share per neighbourhood.csv')\n",
    "house_market_share = house_market_share.rename(columns={'neighborhood':'neighbourhood'})\n",
    "full_house_market = pd.merge(left=house_costs_df, right=house_market_share, how='left', on='neighbourhood')\n",
    "\n",
    "airbnb_revenue_df = pd.read_csv(r'Data\\Analysis\\Airbnb revenue per neighbourhood.csv')\n",
    "airbnb_market_share = pd.read_csv(r'Data\\Analysis\\Airbnb market share per neighbourhood.csv')\n",
    "airbnb_market_share = airbnb_market_share.rename(columns={'neighborhood':'neighbourhood'})\n",
    "full_airbnb_market = pd.merge(left=airbnb_revenue_df, right=airbnb_market_share, how='left', on='neighbourhood')\n",
    "\n",
    "full_market = pd.merge(left=full_house_market, right=full_airbnb_market, how='left', on='neighbourhood')\n",
    "full_market.columns = [col.replace('_y','_airbnb').replace('_x','') for col in full_market.columns]\n",
    "full_market = full_market.dropna()"
   ]
  },
  {
   "cell_type": "code",
   "execution_count": null,
   "id": "0e54953f",
   "metadata": {},
   "outputs": [],
   "source": [
    "def get_lolipop_plot(database,value_x, value_y,color_col, value_colorA, value_colorB ,colorA = 'purple', colorB = 'coral',):\n",
    "    borough_colors = {\n",
    "        value_colorA: colorA,\n",
    "        value_colorB: colorB,\n",
    "    }\n",
    "\n",
    "    colors = database[color_col].map(borough_colors).fillna('gray')\n",
    "\n",
    "    full_sorted = database.copy()\n",
    "    full_sorted['color'] = colors\n",
    "    full_sorted = full_sorted.sort_values(color_col, ascending=False)\n",
    "\n",
    "\n",
    "    x = full_sorted[value_x]\n",
    "    y = full_sorted[value_y]\n",
    "\n",
    "    plt.figure(figsize=(14, 6))\n",
    "    plt.vlines(x=x, ymin=0, ymax=y, colors=full_sorted['color'], alpha=0.8, linewidth=1)\n",
    "    plt.scatter(x, y, color=full_sorted['color'], s=60, edgecolor='black', linewidth=0.5)\n",
    "\n",
    "    plt.xticks(rotation=70, fontsize=9)\n",
    "    plt.ylabel(input('Please enter label X'))\n",
    "    plt.title(input('Please enter title'))\n",
    "    plt.tight_layout()\n",
    "    plt.show()"
   ]
  },
  {
   "cell_type": "code",
   "execution_count": 49,
   "id": "3ab4bcbf",
   "metadata": {},
   "outputs": [
    {
     "data": {
      "image/png": "[encoded data removed]",
      "text/plain": [
       "<Figure size 1400x600 with 1 Axes>"
      ]
     },
     "metadata": {},
     "output_type": "display_data"
    }
   ],
   "source": [
    "get_lolipop_plot(full_roi,'neighborhood','roi_percentage_x','borough_x','manhattan','brooklyn')"
   ]
  },
  {
   "cell_type": "code",
   "execution_count": 62,
   "id": "3635bda2",
   "metadata": {},
   "outputs": [
    {
     "data": {
      "image/png": "[encoded data removed]",
      "text/plain": [
       "<Figure size 640x480 with 1 Axes>"
      ]
     },
     "metadata": {},
     "output_type": "display_data"
    }
   ],
   "source": [
    "borough_colors = {\n",
    "    'manhattan': 'purple',\n",
    "    'brooklyn': 'coral',\n",
    "}\n",
    "\n",
    "sns.countplot(data=full_roi, x='market_saturation', hue='borough_x',palette=borough_colors)\n",
    "plt.show()"
   ]
  },
  {
   "cell_type": "code",
   "execution_count": 63,
   "id": "09fcd4da",
   "metadata": {},
   "outputs": [
    {
     "data": {
      "image/png": "[encoded data removed]",
      "text/plain": [
       "<Figure size 640x480 with 1 Axes>"
      ]
     },
     "metadata": {},
     "output_type": "display_data"
    }
   ],
   "source": [
    "borough_colors = {\n",
    "    'manhattan': 'purple',\n",
    "    'brooklyn': 'coral',\n",
    "}\n",
    "\n",
    "sns.countplot(data=full_roi, x='investment_tier', hue='borough_x',palette=borough_colors)\n",
    "plt.show()"
   ]
  },
  {
   "cell_type": "code",
   "execution_count": 116,
   "id": "dea14712",
   "metadata": {},
   "outputs": [
    {
     "data": {
      "image/png": "[encoded data removed]",
      "text/plain": [
       "<Figure size 1000x600 with 1 Axes>"
      ]
     },
     "metadata": {},
     "output_type": "display_data"
    }
   ],
   "source": [
    "stack_data = full_roi.groupby(['market_saturation', 'borough_x']).size().unstack(fill_value=0)\n",
    "\n",
    "# Plot stacked bar\n",
    "stack_data.plot(\n",
    "    kind='bar',\n",
    "    stacked=True,\n",
    "    figsize=(10, 6),\n",
    "    color={\n",
    "        'manhattan': 'purple',\n",
    "        'brooklyn': 'coral',\n",
    "    }\n",
    ")\n",
    "\n",
    "plt.title(\"Market Saturation by district\")\n",
    "plt.xlabel(\"Market Saturation\")\n",
    "plt.ylabel(\"Number of Listings\")\n",
    "plt.xticks(rotation=45)\n",
    "plt.legend(title='Borough')\n",
    "plt.tight_layout()\n",
    "plt.show()"
   ]
  },
  {
   "cell_type": "code",
   "execution_count": 83,
   "id": "5a449c9a",
   "metadata": {},
   "outputs": [],
   "source": [
    "from scipy.stats import pearsonr"
   ]
  },
  {
   "cell_type": "code",
   "execution_count": null,
   "id": "5f22b81b",
   "metadata": {},
   "outputs": [
    {
     "name": "stdout",
     "output_type": "stream",
     "text": [
      "0.6379130166652439\n"
     ]
    }
   ],
   "source": [
    "# Convert dataframe into series\n",
    "l1 = full_market['avg_property_price']\n",
    "l2 = full_market['avg_daily_price']\n",
    "\n",
    "# Apply the pearsonr()\n",
    "corr, _ = pearsonr(l1, l2)\n"
   ]
  },
  {
   "cell_type": "code",
   "execution_count": null,
   "id": "f6389357",
   "metadata": {},
   "outputs": [
    {
     "data": {
      "image/png": "[encoded data removed]",
      "text/plain": [
       "<Figure size 640x480 with 1 Axes>"
      ]
     },
     "metadata": {},
     "output_type": "display_data"
    }
   ],
   "source": [
    "x = full_market['avg_property_price']\n",
    "y = full_market['avg_daily_price']\n",
    "\n",
    "plt.scatter(x, y)\n",
    "\n",
    "plt.show()\n",
    "print(corr)"
   ]
  },
  {
   "cell_type": "code",
   "execution_count": 103,
   "id": "e704450a",
   "metadata": {},
   "outputs": [
    {
     "name": "stdout",
     "output_type": "stream",
     "text": [
      "0.35712336195316374\n"
     ]
    }
   ],
   "source": [
    "# Convert dataframe into series\n",
    "l1 = full_market['neighborhood_share']\n",
    "l2 = full_market['market_share_percent']\n",
    "\n",
    "# Apply the pearsonr()\n",
    "corr, _ = pearsonr(l1, l2)\n",
    "print(corr)"
   ]
  },
  {
   "cell_type": "code",
   "execution_count": 111,
   "id": "9ef8b8f8",
   "metadata": {},
   "outputs": [
    {
     "data": {
      "image/png": "[encoded data removed]",
      "text/plain": [
       "<Figure size 640x480 with 1 Axes>"
      ]
     },
     "metadata": {},
     "output_type": "display_data"
    }
   ],
   "source": [
    "x = full_market['neighborhood_share']\n",
    "y = full_market['market_share_percent']\n",
    "\n",
    "plt.scatter(x, y)\n",
    "\n",
    "plt.show()"
   ]
  },
  {
   "cell_type": "code",
   "execution_count": 106,
   "id": "dffbb510",
   "metadata": {},
   "outputs": [
    {
     "name": "stdout",
     "output_type": "stream",
     "text": [
      "0.061920111845900995\n"
     ]
    }
   ],
   "source": [
    "# Convert dataframe into series\n",
    "l1 = full_market['avg_daily_price']\n",
    "l2 = full_market['market_share_percent']\n",
    "\n",
    "# Apply the pearsonr()\n",
    "corr, _ = pearsonr(l1, l2)\n",
    "print(corr)"
   ]
  },
  {
   "cell_type": "code",
   "execution_count": 112,
   "id": "10d92ca9",
   "metadata": {},
   "outputs": [
    {
     "data": {
      "image/png": "[encoded data removed]",
      "text/plain": [
       "<Figure size 640x480 with 1 Axes>"
      ]
     },
     "metadata": {},
     "output_type": "display_data"
    }
   ],
   "source": [
    "x = full_market['avg_daily_price']\n",
    "y = full_market['market_share_percent']\n",
    "\n",
    "plt.scatter(x, y)\n",
    "\n",
    "plt.show()"
   ]
  },
  {
   "cell_type": "code",
   "execution_count": 127,
   "id": "a3161d13",
   "metadata": {},
   "outputs": [
    {
     "data": {
      "image/png": "[encoded data removed]",
      "text/plain": [
       "<Figure size 1400x600 with 1 Axes>"
      ]
     },
     "metadata": {},
     "output_type": "display_data"
    }
   ],
   "source": [
    "# Sort and prepare data\n",
    "x = full_market['neighbourhood']\n",
    "y = full_market['avg_property_price']\n",
    "\n",
    "# Define color map\n",
    "borough_colors = {\n",
    "    'manhattan': 'purple',\n",
    "    'brooklyn': 'coral',\n",
    "}\n",
    "colors = full_market['borough_airbnb'].map(borough_colors).fillna('lightgray')\n",
    "\n",
    "# Plot\n",
    "plt.figure(figsize=(14, 6))\n",
    "plt.bar(x, y, color=colors)\n",
    "\n",
    "plt.xticks(rotation=70, fontsize=8)\n",
    "plt.show()"
   ]
  },
  {
   "cell_type": "code",
   "execution_count": 128,
   "id": "fbbaa961",
   "metadata": {},
   "outputs": [
    {
     "data": {
      "image/png": "[encoded data removed]",
      "text/plain": [
       "<Figure size 1400x600 with 1 Axes>"
      ]
     },
     "metadata": {},
     "output_type": "display_data"
    }
   ],
   "source": [
    "brooklyn_data = full_market[full_market['borough_airbnb'] == 'brooklyn']\n",
    "# Sort and prepare data\n",
    "x = brooklyn_data['neighbourhood']\n",
    "y = brooklyn_data['avg_property_price']\n",
    "\n",
    "# Define color map\n",
    "borough_colors = {\n",
    "    'manhattan': 'purple',\n",
    "    'brooklyn': 'coral',\n",
    "}\n",
    "colors = brooklyn_data['borough_airbnb'].map(borough_colors).fillna('lightgray')\n",
    "\n",
    "# Plot\n",
    "plt.figure(figsize=(14, 6))\n",
    "plt.bar(x, y, color=colors)\n",
    "\n",
    "plt.xticks(rotation=70, fontsize=8)\n",
    "plt.show()"
   ]
  }
 ],
 "metadata": {
  "kernelspec": {
   "display_name": "housing_analysis_env",
   "language": "python",
   "name": "python3"
  },
  "language_info": {
   "codemirror_mode": {
    "name": "ipython",
    "version": 3
   },
   "file_extension": ".py",
   "mimetype": "text/x-python",
   "name": "python",
   "nbconvert_exporter": "python",
   "pygments_lexer": "ipython3",
   "version": "3.12.7"
  }
 },
 "nbformat": 4,
 "nbformat_minor": 5
}
