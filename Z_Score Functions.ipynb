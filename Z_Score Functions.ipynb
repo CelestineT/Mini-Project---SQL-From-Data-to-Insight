{
 "cells": [
  {
   "cell_type": "code",
   "execution_count": 326,
   "id": "fa885987",
   "metadata": {},
   "outputs": [],
   "source": [
    "import pandas as pd\n",
    "from sklearn.preprocessing import StandardScaler"
   ]
  },
  {
   "cell_type": "code",
   "execution_count": 327,
   "id": "afe82f9b",
   "metadata": {},
   "outputs": [
    {
     "name": "stderr",
     "output_type": "stream",
     "text": [
      "<>:1: SyntaxWarning: invalid escape sequence '\\A'\n",
      "<>:2: SyntaxWarning: invalid escape sequence '\\M'\n",
      "<>:3: SyntaxWarning: invalid escape sequence '\\B'\n",
      "<>:1: SyntaxWarning: invalid escape sequence '\\A'\n",
      "<>:2: SyntaxWarning: invalid escape sequence '\\M'\n",
      "<>:3: SyntaxWarning: invalid escape sequence '\\B'\n",
      "C:\\Users\\Santi\\AppData\\Local\\Temp\\ipykernel_9056\\1942276224.py:1: SyntaxWarning: invalid escape sequence '\\A'\n",
      "  url = 'Data\\AB_NYC_2019.csv'\n",
      "C:\\Users\\Santi\\AppData\\Local\\Temp\\ipykernel_9056\\1942276224.py:2: SyntaxWarning: invalid escape sequence '\\M'\n",
      "  manhattan_url = 'Data\\Manhattan_2019.csv'\n",
      "C:\\Users\\Santi\\AppData\\Local\\Temp\\ipykernel_9056\\1942276224.py:3: SyntaxWarning: invalid escape sequence '\\B'\n",
      "  brooklyn_url = 'Data\\Brooklyn_2019.csv'\n"
     ]
    }
   ],
   "source": [
    "url = 'Data\\AB_NYC_2019.csv'\n",
    "manhattan_url = 'Data\\Manhattan_2019.csv'\n",
    "brooklyn_url = 'Data\\Brooklyn_2019.csv'\n"
   ]
  },
  {
   "cell_type": "code",
   "execution_count": 357,
   "id": "c33b9744",
   "metadata": {},
   "outputs": [],
   "source": [
    "df = pd.read_csv(url)\n",
    "manhattan_df = pd.read_csv(manhattan_url) \n",
    "brooklyn_df = pd.read_csv(brooklyn_url)\n",
    "scaler = StandardScaler()"
   ]
  },
  {
   "cell_type": "code",
   "execution_count": 231,
   "id": "3b29ee6c",
   "metadata": {},
   "outputs": [],
   "source": [
    "def get_price_interpretation(value, lower_threshold = 1.5, higher_threshold = 2):\n",
    "    if abs(value) > lower_threshold and abs(value) < higher_threshold:\n",
    "        return 'The price is not average'\n",
    "    elif abs(value) > higher_threshold:\n",
    "        return 'The price is beyond average'\n",
    "    else:\n",
    "        if value < 0 and abs(value) < 0.1:\n",
    "            return 'Average price'\n",
    "        elif value > 0 and value < 0.1:\n",
    "            return 'Average price'\n",
    "        elif value < 0:\n",
    "            return 'Lower price average'\n",
    "        elif value > 0:\n",
    "            return 'Higher price average'\n",
    "        else:\n",
    "            return 'NaN'"
   ]
  },
  {
   "cell_type": "code",
   "execution_count": 372,
   "id": "10c7eaa5",
   "metadata": {},
   "outputs": [],
   "source": [
    "def get_z_prices(dataframe):\n",
    "    analysis_df = dataframe[['id', 'neighbourhood_group','host_name', 'host_id']].copy()\n",
    "    analysis_df['minimum_price'] = dataframe['price']*dataframe['minimum_nights']\n",
    "    analysis_df['z_value_prices'] = scaler.fit_transform(analysis_df[['minimum_price']])\n",
    "    analysis_df['z_value_prices'] = analysis_df['z_value_prices']\n",
    "    analysis_df = analysis_df[(analysis_df['z_value_prices'] >= -2) & (analysis_df['z_value_prices'] <= 2)]\n",
    "    analysis_df['z_interpretation'] = analysis_df['z_value_prices'].apply(get_price_interpretation)\n",
    "    saturation_df = df.groupby(['neighbourhood_group']).agg({'id':'count'}).reset_index()\n",
    "    saturation_df['market_share'] = (saturation_df['id']/int(saturation_df['id'].sum()))*100\n",
    "    analysis_df = pd.merge(analysis_df, saturation_df, on=['neighbourhood_group'], how='left')\n",
    "    return analysis_df"
   ]
  },
  {
   "cell_type": "code",
   "execution_count": 292,
   "id": "06973517",
   "metadata": {},
   "outputs": [],
   "source": [
    "def get_clean_df(dataframe, neighborhood):\n",
    "    dataframe = dataframe[[dataframe.columns[-2],dataframe.columns[-3]]].copy()\n",
    "    dataframe['Neighborhood'] = neighborhood\n",
    "    dataframe = dataframe.loc[dataframe['Sale Price'] != 0]\n",
    "    dataframe['Sale Price'].dropna()\n",
    "    dataframe['Sale Price'].value_counts()\n",
    "    return dataframe"
   ]
  },
  {
   "cell_type": "code",
   "execution_count": 316,
   "id": "1ededeec",
   "metadata": {},
   "outputs": [],
   "source": [
    "def get_sale_price_interpretation(value, lower_threshold = 1.5, higher_threshold = 2):\n",
    "    if abs(value) > lower_threshold and abs(value) < higher_threshold:\n",
    "        return 'The price is not average'\n",
    "    elif abs(value) > higher_threshold:\n",
    "        return 'The price is beyond average'\n",
    "    else:\n",
    "        if value < 0 and abs(value) < 0.3:\n",
    "            return 'Average price'\n",
    "        elif value > 0 and value < 0.3:\n",
    "            return 'Average price'\n",
    "        elif value < 0:\n",
    "            return 'Lower price average'\n",
    "        elif value > 0:\n",
    "            return 'Higher price average'\n",
    "        else:\n",
    "            return 'NaN'"
   ]
  },
  {
   "cell_type": "code",
   "execution_count": 306,
   "id": "24396338",
   "metadata": {},
   "outputs": [],
   "source": [
    "def get_ny_z_prices(dataframe):\n",
    "    analysis_df = dataframe\n",
    "    analysis_df['z_value_prices'] = scaler.fit_transform(analysis_df[['Sale Price']])\n",
    "    analysis_df['z_value_prices'] = analysis_df['z_value_prices']\n",
    "    analysis_df = analysis_df[(analysis_df['z_value_prices'] >= -2) & (analysis_df['z_value_prices'] <= 2)]\n",
    "    analysis_df['z_interpretation'] = analysis_df['z_value_prices'].apply(get_sale_price_interpretation)\n",
    "    return analysis_df"
   ]
  },
  {
   "cell_type": "code",
   "execution_count": 308,
   "id": "f2845c53",
   "metadata": {},
   "outputs": [],
   "source": [
    "def get_clean_new_york_df():\n",
    "    new_york_df = pd.concat([get_clean_df(manhattan_df,'manhattan'),get_clean_df(brooklyn_df,'brooklyn')])\n",
    "    new_york_df['Neighborhood'].value_counts()\n",
    "    new_york_df = get_ny_z_prices(new_york_df)\n",
    "    return new_york_df"
   ]
  },
  {
   "cell_type": "code",
   "execution_count": 324,
   "id": "69d294ff",
   "metadata": {},
   "outputs": [],
   "source": [
    "def main():\n",
    "    final_df = get_z_prices(df)\n",
    "    final_df.to_csv('NYC_Airbnb_2019.csv')\n",
    "    new_york_2019_df = get_clean_new_york_df()\n",
    "    new_york_2019_df.to_csv('NYC_Housing_2019.csv')\n"
   ]
  },
  {
   "cell_type": "code",
   "execution_count": 375,
   "id": "db51dade",
   "metadata": {},
   "outputs": [
    {
     "name": "stderr",
     "output_type": "stream",
     "text": [
      "C:\\Users\\Santi\\AppData\\Local\\Temp\\ipykernel_9056\\2329143974.py:6: SettingWithCopyWarning: \n",
      "A value is trying to be set on a copy of a slice from a DataFrame.\n",
      "Try using .loc[row_indexer,col_indexer] = value instead\n",
      "\n",
      "See the caveats in the documentation: https://pandas.pydata.org/pandas-docs/stable/user_guide/indexing.html#returning-a-view-versus-a-copy\n",
      "  analysis_df['z_interpretation'] = analysis_df['z_value_prices'].apply(get_sale_price_interpretation)\n"
     ]
    }
   ],
   "source": [
    "main()"
   ]
  }
 ],
 "metadata": {
  "kernelspec": {
   "display_name": "housing_analysis_env",
   "language": "python",
   "name": "python3"
  },
  "language_info": {
   "codemirror_mode": {
    "name": "ipython",
    "version": 3
   },
   "file_extension": ".py",
   "mimetype": "text/x-python",
   "name": "python",
   "nbconvert_exporter": "python",
   "pygments_lexer": "ipython3",
   "version": "3.12.7"
  }
 },
 "nbformat": 4,
 "nbformat_minor": 5
}
