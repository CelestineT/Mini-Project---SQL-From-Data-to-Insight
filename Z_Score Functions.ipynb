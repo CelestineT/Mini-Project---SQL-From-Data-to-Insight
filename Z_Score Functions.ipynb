{
 "cells": [
  {
   "cell_type": "code",
   "execution_count": 1,
   "id": "fa885987",
   "metadata": {},
   "outputs": [],
   "source": [
    "import pandas as pd\n",
    "from sklearn.preprocessing import StandardScaler"
   ]
  },
  {
   "cell_type": "code",
   "execution_count": 14,
   "id": "afe82f9b",
   "metadata": {},
   "outputs": [],
   "source": [
    "url = r'Data\\Clean\\2019_airbnb_cleaned.csv'\n",
    "manhattan_url = r'Data\\Clean\\2019_manhattan_properties_cleaned.csv'\n",
    "brooklyn_url = r'Data\\Clean\\2019_brooklyn_properties_cleaned.csv'\n"
   ]
  },
  {
   "cell_type": "code",
   "execution_count": 15,
   "id": "c33b9744",
   "metadata": {},
   "outputs": [],
   "source": [
    "df = pd.read_csv(url)\n",
    "manhattan_df = pd.read_csv(manhattan_url) \n",
    "brooklyn_df = pd.read_csv(brooklyn_url)\n",
    "scaler = StandardScaler()"
   ]
  },
  {
   "cell_type": "code",
   "execution_count": null,
   "id": "c5be5ba5",
   "metadata": {},
   "outputs": [],
   "source": [
    "zip_neighborhood_dict = {\n",
    "# Manhattan\n",
    "\"10001\": \"Chelsea / Hudson Yards\",\n",
    "\"10002\": \"Lower East Side / Chinatown\",\n",
    "\"10003\": \"East Village / Greenwich Village\",\n",
    "\"10004\": \"Financial District / Battery Park\",\n",
    "\"10005\": \"Financial District\",\n",
    "\"10006\": \"Financial District\",\n",
    "\"10007\": \"Tribeca / Civic Center\",\n",
    "\"10009\": \"Alphabet City / East Village\",\n",
    "\"10010\": \"Gramercy / Stuyvesant Town\",\n",
    "\"10011\": \"Chelsea / West Village\",\n",
    "\"10012\": \"SoHo / NoHo\",\n",
    "\"10013\": \"Tribeca / SoHo\",\n",
    "\"10014\": \"West Village\",\n",
    "\"10016\": \"Murray Hill / Kips Bay\",\n",
    "\"10017\": \"Turtle Bay / Midtown East\",\n",
    "\"10018\": \"Garment District / Midtown\",\n",
    "\"10019\": \"Hell's Kitchen / Midtown West\",\n",
    "\"10020\": \"Rockefeller Center\",\n",
    "\"10021\": \"Upper East Side\",\n",
    "\"10022\": \"Midtown East\",\n",
    "\"10023\": \"Upper West Side\",\n",
    "\"10024\": \"Upper West Side\",\n",
    "\"10025\": \"Morningside Heights / Upper West Side\",\n",
    "\"10026\": \"South Harlem\",\n",
    "\"10027\": \"Harlem\",\n",
    "\"10028\": \"Yorkville\",\n",
    "\"10029\": \"East Harlem\",\n",
    "\"10030\": \"Central Harlem\",\n",
    "\"10031\": \"Hamilton Heights\",\n",
    "\"10032\": \"Washington Heights (South)\",\n",
    "\"10033\": \"Washington Heights (North)\",\n",
    "\"10034\": \"Inwood\",\n",
    "\"10035\": \"East Harlem / Harlem River\",\n",
    "\"10036\": \"Times Square / Theater District\",\n",
    "\"10037\": \"Harlem (East)\",\n",
    "\"10038\": \"Seaport / Civic Center\",\n",
    "\"10039\": \"Harlem (North)\",\n",
    "\"10040\": \"Fort George / Washington Heights\",\n",
    "\"10128\": \"Carnegie Hill\",\n",
    "\"10280\": \"Battery Park City\",\n",
    "\"10282\": \"Battery Park City / Tribeca\",\n",
    "# Brooklyn\n",
    "\"11201\": \"Brooklyn Heights / Downtown\",\n",
    "\"11203\": \"East Flatbush\",\n",
    "\"11204\": \"Bensonhurst\",\n",
    "\"11205\": \"Clinton Hill / Fort Greene\",\n",
    "\"11206\": \"Williamsburg (South)\",\n",
    "\"11207\": \"East New York\",\n",
    "\"11208\": \"Cypress Hills / East New York\",\n",
    "\"11209\": \"Bay Ridge\",\n",
    "\"11210\": \"Flatbush\",\n",
    "\"11211\": \"Williamsburg (North)\",\n",
    "\"11212\": \"Brownsville\",\n",
    "\"11213\": \"Crown Heights (North)\",\n",
    "\"11214\": \"Bath Beach / Bensonhurst\",\n",
    "\"11215\": \"Park Slope\",\n",
    "\"11216\": \"Crown Heights (South)\",\n",
    "\"11217\": \"Boerum Hill / Gowanus\",\n",
    "\"11218\": \"Kensington\",\n",
    "\"11219\": \"Borough Park\",\n",
    "\"11220\": \"Sunset Park\",\n",
    "\"11221\": \"Bushwick (South)\",\n",
    "\"11222\": \"Greenpoint\",\n",
    "\"11223\": \"Gravesend\",\n",
    "\"11224\": \"Coney Island\",\n",
    "\"11225\": \"Prospect Lefferts Gardens\",\n",
    "\"11226\": \"Flatbush / Ditmas Park\",\n",
    "\"11228\": \"Dyker Heights\",\n",
    "\"11229\": \"Sheepshead Bay\",\n",
    "\"11230\": \"Midwood\",\n",
    "\"11231\": \"Carroll Gardens / Red Hook\",\n",
    "\"11232\": \"Sunset Park (West)\",\n",
    "\"11233\": \"Bedford-Stuyvesant (South)\",\n",
    "\"11234\": \"Mill Basin / Marine Park\",\n",
    "\"11235\": \"Brighton Beach / Manhattan Beach\",\n",
    "\"11236\": \"Canarsie\",\n",
    "\"11237\": \"Bushwick (North)\",\n",
    "\"11238\": \"Prospect Heights\",\n",
    "\"11239\": \"Spring Creek / East New York\",\n",
    "\"11249\": \"Williamsburg (Waterfront)\"\n",
    "}"
   ]
  },
  {
   "cell_type": "code",
   "execution_count": 4,
   "id": "813f3df8",
   "metadata": {},
   "outputs": [],
   "source": [
    "def get_neighbourhood_from_zip_code(zip):\n",
    "    try:\n",
    "        zip = int(zip)\n",
    "        for key, value in zip_neighborhood_dict.items():\n",
    "            if (zip == int(key)):\n",
    "                return value\n",
    "    except ValueError:\n",
    "        return None"
   ]
  },
  {
   "cell_type": "code",
   "execution_count": 5,
   "id": "3b29ee6c",
   "metadata": {},
   "outputs": [],
   "source": [
    "def get_price_interpretation(value, lower_threshold = 1.5, higher_threshold = 2):\n",
    "    if abs(value) > lower_threshold and abs(value) < higher_threshold:\n",
    "        return 'The price is not average'\n",
    "    elif abs(value) > higher_threshold:\n",
    "        return 'The price is beyond average'\n",
    "    else:\n",
    "        if value < 0 and abs(value) < 0.1:\n",
    "            return 'Average price'\n",
    "        elif value > 0 and value < 0.1:\n",
    "            return 'Average price'\n",
    "        elif value < 0:\n",
    "            return 'Lower price average'\n",
    "        elif value > 0:\n",
    "            return 'Higher price average'\n",
    "        else:\n",
    "            return 'NaN'"
   ]
  },
  {
   "cell_type": "code",
   "execution_count": 17,
   "id": "9c6e44cd",
   "metadata": {},
   "outputs": [
    {
     "data": {
      "text/plain": [
       "Index(['id', 'name', 'host_id', 'borough', 'neighbourhood', 'latitude',\n",
       "       'longitude', 'room_type', 'price', 'minimum_nights',\n",
       "       'number_of_reviews', 'reviews_per_month',\n",
       "       'calculated_host_listings_count', 'availability_365'],\n",
       "      dtype='object')"
      ]
     },
     "execution_count": 17,
     "metadata": {},
     "output_type": "execute_result"
    }
   ],
   "source": [
    "df.columns"
   ]
  },
  {
   "cell_type": "code",
   "execution_count": 29,
   "id": "10c7eaa5",
   "metadata": {},
   "outputs": [],
   "source": [
    "def get_z_prices(dataframe):\n",
    "    analysis_df = dataframe[['id', 'borough','neighbourhood', 'host_id', 'availability_365']].copy()\n",
    "    analysis_df['minimum_price'] = dataframe['price']*dataframe['minimum_nights']\n",
    "    analysis_df['z_value_prices'] = scaler.fit_transform(analysis_df[['minimum_price']])\n",
    "    analysis_df['z_value_prices'] = analysis_df['z_value_prices']\n",
    "    analysis_df = analysis_df[(analysis_df['z_value_prices'] >= -2) & (analysis_df['z_value_prices'] <= 2)]\n",
    "    analysis_df = analysis_df.drop(['z_value_prices'], axis = 1)\n",
    "    return analysis_df"
   ]
  },
  {
   "cell_type": "code",
   "execution_count": 31,
   "id": "fdac23f4",
   "metadata": {},
   "outputs": [
    {
     "data": {
      "text/plain": [
       "Index(['Borough', 'Neighborhood', 'Building Class Category',\n",
       "       'Tax Class As Of Final Roll 18/1', 'Block', 'Lot', 'Ease-Ment',\n",
       "       'Building Class As Of Final Roll 18/1', 'Address', 'Apartment Number',\n",
       "       'Zip Code', 'Residential Units', 'Commercial Units', 'Total Units',\n",
       "       'Land Square Feet', 'Gross Square Feet', 'Year Built',\n",
       "       'Tax Class At Time Of Sale', 'Building Class At Time Of Sale',\n",
       "       'Sale Price', 'Sale Date'],\n",
       "      dtype='object')"
      ]
     },
     "execution_count": 31,
     "metadata": {},
     "output_type": "execute_result"
    }
   ],
   "source": [
    "manhattan_df.columns"
   ]
  },
  {
   "cell_type": "code",
   "execution_count": 32,
   "id": "5c2df08b",
   "metadata": {},
   "outputs": [
    {
     "data": {
      "text/plain": [
       "Index(['Borough', 'Neighborhood', 'Building Class Category',\n",
       "       'Tax Class At Present', 'Block', 'Lot', 'Ease-Ment',\n",
       "       'Building Class At Present', 'Address', 'Apartment Number', 'Zip Code',\n",
       "       'Residential Units', 'Commercial Units', 'Total Units',\n",
       "       'Land Square Feet', 'Gross Square Feet', 'Year Built',\n",
       "       'Tax Class At Time Of Sale', 'Building Class At Time Of Sale',\n",
       "       'Sale Price', 'Sale Date'],\n",
       "      dtype='object')"
      ]
     },
     "execution_count": 32,
     "metadata": {},
     "output_type": "execute_result"
    }
   ],
   "source": [
    "brooklyn_df.columns"
   ]
  },
  {
   "cell_type": "code",
   "execution_count": null,
   "id": "06973517",
   "metadata": {},
   "outputs": [],
   "source": [
    "def get_clean_df(dataframe, city):\n",
    "    dataframe = dataframe[['borough','Zip Code', 'Sale Date', 'Sale Price', '']].copy()\n",
    "    dataframe['Zip Code'] = dataframe['Zip Code'].astype('Int64')\n",
    "    dataframe['Neighbourhood'] = dataframe['Zip Code'].apply(get_neighbourhood_from_zip_code)\n",
    "    dataframe = dataframe.drop(['Zip Code'], axis=1)\n",
    "    dataframe = dataframe.loc[dataframe['Sale Price'] != 0]\n",
    "    dataframe['Sale Price'].dropna()\n",
    "    dataframe['Sale Price'].value_counts()\n",
    "    return dataframe"
   ]
  },
  {
   "cell_type": "code",
   "execution_count": 8,
   "id": "1ededeec",
   "metadata": {},
   "outputs": [],
   "source": [
    "def get_sale_price_interpretation(value, lower_threshold = 1.5, higher_threshold = 2):\n",
    "    if abs(value) > lower_threshold and abs(value) < higher_threshold:\n",
    "        return 'The price is not average'\n",
    "    elif abs(value) > higher_threshold:\n",
    "        return 'The price is beyond average'\n",
    "    else:\n",
    "        if value < 0 and abs(value) < 0.3:\n",
    "            return 'Average price'\n",
    "        elif value > 0 and value < 0.3:\n",
    "            return 'Average price'\n",
    "        elif value < 0:\n",
    "            return 'Lower price average'\n",
    "        elif value > 0:\n",
    "            return 'Higher price average'\n",
    "        else:\n",
    "            return 'NaN'"
   ]
  },
  {
   "cell_type": "code",
   "execution_count": 9,
   "id": "24396338",
   "metadata": {},
   "outputs": [],
   "source": [
    "def get_ny_z_prices(dataframe):\n",
    "    analysis_df = dataframe\n",
    "    analysis_df['z_value_prices'] = scaler.fit_transform(analysis_df[['Sale Price']])\n",
    "    analysis_df['z_value_prices'] = analysis_df['z_value_prices']\n",
    "    analysis_df = analysis_df[(analysis_df['z_value_prices'] >= -2) & (analysis_df['z_value_prices'] <= 2)]\n",
    "    #analysis_df['z_interpretation'] = analysis_df['z_value_prices'].apply(get_sale_price_interpretation)\n",
    "    return analysis_df"
   ]
  },
  {
   "cell_type": "code",
   "execution_count": 10,
   "id": "f2845c53",
   "metadata": {},
   "outputs": [],
   "source": [
    "def get_clean_new_york_df():\n",
    "    new_york_df = pd.concat([get_clean_df(manhattan_df,'manhattan'),get_clean_df(brooklyn_df,'brooklyn')])\n",
    "    new_york_df = get_ny_z_prices(new_york_df)\n",
    "    return new_york_df"
   ]
  },
  {
   "cell_type": "code",
   "execution_count": 11,
   "id": "69d294ff",
   "metadata": {},
   "outputs": [],
   "source": [
    "def main():\n",
    "    final_df = get_z_prices(df)\n",
    "    final_df.to_csv('NYC_Airbnb_2019.csv')\n",
    "    new_york_2019_df = get_clean_new_york_df()\n",
    "    new_york_2019_df.to_csv('NYC_Housing_2019.csv')"
   ]
  },
  {
   "cell_type": "code",
   "execution_count": 16,
   "id": "db51dade",
   "metadata": {},
   "outputs": [
    {
     "ename": "KeyError",
     "evalue": "\"['neighbourhood_group', 'host_name'] not in index\"",
     "output_type": "error",
     "traceback": [
      "\u001b[31m---------------------------------------------------------------------------\u001b[39m",
      "\u001b[31mKeyError\u001b[39m                                  Traceback (most recent call last)",
      "\u001b[36mCell\u001b[39m\u001b[36m \u001b[39m\u001b[32mIn[16]\u001b[39m\u001b[32m, line 1\u001b[39m\n\u001b[32m----> \u001b[39m\u001b[32m1\u001b[39m \u001b[43mmain\u001b[49m\u001b[43m(\u001b[49m\u001b[43m)\u001b[49m\n",
      "\u001b[36mCell\u001b[39m\u001b[36m \u001b[39m\u001b[32mIn[11]\u001b[39m\u001b[32m, line 2\u001b[39m, in \u001b[36mmain\u001b[39m\u001b[34m()\u001b[39m\n\u001b[32m      1\u001b[39m \u001b[38;5;28;01mdef\u001b[39;00m\u001b[38;5;250m \u001b[39m\u001b[34mmain\u001b[39m():\n\u001b[32m----> \u001b[39m\u001b[32m2\u001b[39m     final_df = \u001b[43mget_z_prices\u001b[49m\u001b[43m(\u001b[49m\u001b[43mdf\u001b[49m\u001b[43m)\u001b[49m\n\u001b[32m      3\u001b[39m     final_df.to_csv(\u001b[33m'\u001b[39m\u001b[33mNYC_Airbnb_2019.csv\u001b[39m\u001b[33m'\u001b[39m)\n\u001b[32m      4\u001b[39m     new_york_2019_df = get_clean_new_york_df()\n",
      "\u001b[36mCell\u001b[39m\u001b[36m \u001b[39m\u001b[32mIn[6]\u001b[39m\u001b[32m, line 2\u001b[39m, in \u001b[36mget_z_prices\u001b[39m\u001b[34m(dataframe)\u001b[39m\n\u001b[32m      1\u001b[39m \u001b[38;5;28;01mdef\u001b[39;00m\u001b[38;5;250m \u001b[39m\u001b[34mget_z_prices\u001b[39m(dataframe):\n\u001b[32m----> \u001b[39m\u001b[32m2\u001b[39m     analysis_df = \u001b[43mdataframe\u001b[49m\u001b[43m[\u001b[49m\u001b[43m[\u001b[49m\u001b[33;43m'\u001b[39;49m\u001b[33;43mid\u001b[39;49m\u001b[33;43m'\u001b[39;49m\u001b[43m,\u001b[49m\u001b[43m \u001b[49m\u001b[33;43m'\u001b[39;49m\u001b[33;43mneighbourhood_group\u001b[39;49m\u001b[33;43m'\u001b[39;49m\u001b[43m,\u001b[49m\u001b[33;43m'\u001b[39;49m\u001b[33;43mneighbourhood\u001b[39;49m\u001b[33;43m'\u001b[39;49m\u001b[43m,\u001b[49m\u001b[33;43m'\u001b[39;49m\u001b[33;43mhost_name\u001b[39;49m\u001b[33;43m'\u001b[39;49m\u001b[43m,\u001b[49m\u001b[43m \u001b[49m\u001b[33;43m'\u001b[39;49m\u001b[33;43mhost_id\u001b[39;49m\u001b[33;43m'\u001b[39;49m\u001b[43m]\u001b[49m\u001b[43m]\u001b[49m.copy()\n\u001b[32m      3\u001b[39m     analysis_df[\u001b[33m'\u001b[39m\u001b[33mminimum_price\u001b[39m\u001b[33m'\u001b[39m] = dataframe[\u001b[33m'\u001b[39m\u001b[33mprice\u001b[39m\u001b[33m'\u001b[39m]*dataframe[\u001b[33m'\u001b[39m\u001b[33mminimum_nights\u001b[39m\u001b[33m'\u001b[39m]\n\u001b[32m      4\u001b[39m     analysis_df[\u001b[33m'\u001b[39m\u001b[33mz_value_prices\u001b[39m\u001b[33m'\u001b[39m] = scaler.fit_transform(analysis_df[[\u001b[33m'\u001b[39m\u001b[33mminimum_price\u001b[39m\u001b[33m'\u001b[39m]])\n",
      "\u001b[36mFile \u001b[39m\u001b[32mc:\\Users\\Santi\\anaconda3\\envs\\housing_analysis_env\\Lib\\site-packages\\pandas\\core\\frame.py:4108\u001b[39m, in \u001b[36mDataFrame.__getitem__\u001b[39m\u001b[34m(self, key)\u001b[39m\n\u001b[32m   4106\u001b[39m     \u001b[38;5;28;01mif\u001b[39;00m is_iterator(key):\n\u001b[32m   4107\u001b[39m         key = \u001b[38;5;28mlist\u001b[39m(key)\n\u001b[32m-> \u001b[39m\u001b[32m4108\u001b[39m     indexer = \u001b[38;5;28;43mself\u001b[39;49m\u001b[43m.\u001b[49m\u001b[43mcolumns\u001b[49m\u001b[43m.\u001b[49m\u001b[43m_get_indexer_strict\u001b[49m\u001b[43m(\u001b[49m\u001b[43mkey\u001b[49m\u001b[43m,\u001b[49m\u001b[43m \u001b[49m\u001b[33;43m\"\u001b[39;49m\u001b[33;43mcolumns\u001b[39;49m\u001b[33;43m\"\u001b[39;49m\u001b[43m)\u001b[49m[\u001b[32m1\u001b[39m]\n\u001b[32m   4110\u001b[39m \u001b[38;5;66;03m# take() does not accept boolean indexers\u001b[39;00m\n\u001b[32m   4111\u001b[39m \u001b[38;5;28;01mif\u001b[39;00m \u001b[38;5;28mgetattr\u001b[39m(indexer, \u001b[33m\"\u001b[39m\u001b[33mdtype\u001b[39m\u001b[33m\"\u001b[39m, \u001b[38;5;28;01mNone\u001b[39;00m) == \u001b[38;5;28mbool\u001b[39m:\n",
      "\u001b[36mFile \u001b[39m\u001b[32mc:\\Users\\Santi\\anaconda3\\envs\\housing_analysis_env\\Lib\\site-packages\\pandas\\core\\indexes\\base.py:6200\u001b[39m, in \u001b[36mIndex._get_indexer_strict\u001b[39m\u001b[34m(self, key, axis_name)\u001b[39m\n\u001b[32m   6197\u001b[39m \u001b[38;5;28;01melse\u001b[39;00m:\n\u001b[32m   6198\u001b[39m     keyarr, indexer, new_indexer = \u001b[38;5;28mself\u001b[39m._reindex_non_unique(keyarr)\n\u001b[32m-> \u001b[39m\u001b[32m6200\u001b[39m \u001b[38;5;28;43mself\u001b[39;49m\u001b[43m.\u001b[49m\u001b[43m_raise_if_missing\u001b[49m\u001b[43m(\u001b[49m\u001b[43mkeyarr\u001b[49m\u001b[43m,\u001b[49m\u001b[43m \u001b[49m\u001b[43mindexer\u001b[49m\u001b[43m,\u001b[49m\u001b[43m \u001b[49m\u001b[43maxis_name\u001b[49m\u001b[43m)\u001b[49m\n\u001b[32m   6202\u001b[39m keyarr = \u001b[38;5;28mself\u001b[39m.take(indexer)\n\u001b[32m   6203\u001b[39m \u001b[38;5;28;01mif\u001b[39;00m \u001b[38;5;28misinstance\u001b[39m(key, Index):\n\u001b[32m   6204\u001b[39m     \u001b[38;5;66;03m# GH 42790 - Preserve name from an Index\u001b[39;00m\n",
      "\u001b[36mFile \u001b[39m\u001b[32mc:\\Users\\Santi\\anaconda3\\envs\\housing_analysis_env\\Lib\\site-packages\\pandas\\core\\indexes\\base.py:6252\u001b[39m, in \u001b[36mIndex._raise_if_missing\u001b[39m\u001b[34m(self, key, indexer, axis_name)\u001b[39m\n\u001b[32m   6249\u001b[39m     \u001b[38;5;28;01mraise\u001b[39;00m \u001b[38;5;167;01mKeyError\u001b[39;00m(\u001b[33mf\u001b[39m\u001b[33m\"\u001b[39m\u001b[33mNone of [\u001b[39m\u001b[38;5;132;01m{\u001b[39;00mkey\u001b[38;5;132;01m}\u001b[39;00m\u001b[33m] are in the [\u001b[39m\u001b[38;5;132;01m{\u001b[39;00maxis_name\u001b[38;5;132;01m}\u001b[39;00m\u001b[33m]\u001b[39m\u001b[33m\"\u001b[39m)\n\u001b[32m   6251\u001b[39m not_found = \u001b[38;5;28mlist\u001b[39m(ensure_index(key)[missing_mask.nonzero()[\u001b[32m0\u001b[39m]].unique())\n\u001b[32m-> \u001b[39m\u001b[32m6252\u001b[39m \u001b[38;5;28;01mraise\u001b[39;00m \u001b[38;5;167;01mKeyError\u001b[39;00m(\u001b[33mf\u001b[39m\u001b[33m\"\u001b[39m\u001b[38;5;132;01m{\u001b[39;00mnot_found\u001b[38;5;132;01m}\u001b[39;00m\u001b[33m not in index\u001b[39m\u001b[33m\"\u001b[39m)\n",
      "\u001b[31mKeyError\u001b[39m: \"['neighbourhood_group', 'host_name'] not in index\""
     ]
    }
   ],
   "source": [
    "main()"
   ]
  }
 ],
 "metadata": {
  "kernelspec": {
   "display_name": "housing_analysis_env",
   "language": "python",
   "name": "python3"
  },
  "language_info": {
   "codemirror_mode": {
    "name": "ipython",
    "version": 3
   },
   "file_extension": ".py",
   "mimetype": "text/x-python",
   "name": "python",
   "nbconvert_exporter": "python",
   "pygments_lexer": "ipython3",
   "version": "3.12.7"
  }
 },
 "nbformat": 4,
 "nbformat_minor": 5
}
