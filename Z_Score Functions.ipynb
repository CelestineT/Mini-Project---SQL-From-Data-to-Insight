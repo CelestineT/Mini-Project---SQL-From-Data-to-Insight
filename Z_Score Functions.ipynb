{
 "cells": [
  {
   "cell_type": "code",
   "execution_count": 3,
   "id": "fa885987",
   "metadata": {},
   "outputs": [],
   "source": [
    "import pandas as pd\n",
    "from sklearn.preprocessing import StandardScaler\n",
    "import regex as re"
   ]
  },
  {
   "cell_type": "code",
   "execution_count": 20,
   "id": "afe82f9b",
   "metadata": {},
   "outputs": [
    {
     "name": "stderr",
     "output_type": "stream",
     "text": [
      "<>:1: SyntaxWarning: invalid escape sequence '\\A'\n",
      "<>:2: SyntaxWarning: invalid escape sequence '\\M'\n",
      "<>:3: SyntaxWarning: invalid escape sequence '\\B'\n",
      "<>:1: SyntaxWarning: invalid escape sequence '\\A'\n",
      "<>:2: SyntaxWarning: invalid escape sequence '\\M'\n",
      "<>:3: SyntaxWarning: invalid escape sequence '\\B'\n",
      "C:\\Users\\Santi\\AppData\\Local\\Temp\\ipykernel_25184\\1942276224.py:1: SyntaxWarning: invalid escape sequence '\\A'\n",
      "  url = 'Data\\AB_NYC_2019.csv'\n",
      "C:\\Users\\Santi\\AppData\\Local\\Temp\\ipykernel_25184\\1942276224.py:2: SyntaxWarning: invalid escape sequence '\\M'\n",
      "  manhattan_url = 'Data\\Manhattan_2019.csv'\n",
      "C:\\Users\\Santi\\AppData\\Local\\Temp\\ipykernel_25184\\1942276224.py:3: SyntaxWarning: invalid escape sequence '\\B'\n",
      "  brooklyn_url = 'Data\\Brooklyn_2019.csv'\n"
     ]
    }
   ],
   "source": [
    "url = 'Data\\AB_NYC_2019.csv'\n",
    "manhattan_url = 'Data\\Manhattan_2019.csv'\n",
    "brooklyn_url = 'Data\\Brooklyn_2019.csv'\n"
   ]
  },
  {
   "cell_type": "code",
   "execution_count": 60,
   "id": "c33b9744",
   "metadata": {},
   "outputs": [],
   "source": [
    "df = pd.read_csv(url)\n",
    "manhattan_df = pd.read_csv(manhattan_url) \n",
    "brooklyn_df = pd.read_csv(brooklyn_url)\n",
    "scaler = StandardScaler()"
   ]
  },
  {
   "cell_type": "code",
   "execution_count": 6,
   "id": "c5be5ba5",
   "metadata": {},
   "outputs": [],
   "source": [
    "zip_neighborhood_dict = {\n",
    "# Manhattan\n",
    "\"10001\": \"Chelsea / Hudson Yards\",\n",
    "\"10002\": \"Lower East Side / Chinatown\",\n",
    "\"10003\": \"East Village / Greenwich Village\",\n",
    "\"10004\": \"Financial District / Battery Park\",\n",
    "\"10005\": \"Financial District\",\n",
    "\"10006\": \"Financial District\",\n",
    "\"10007\": \"Tribeca / Civic Center\",\n",
    "\"10009\": \"Alphabet City / East Village\",\n",
    "\"10010\": \"Gramercy / Stuyvesant Town\",\n",
    "\"10011\": \"Chelsea / West Village\",\n",
    "\"10012\": \"SoHo / NoHo\",\n",
    "\"10013\": \"Tribeca / SoHo\",\n",
    "\"10014\": \"West Village\",\n",
    "\"10016\": \"Murray Hill / Kips Bay\",\n",
    "\"10017\": \"Turtle Bay / Midtown East\",\n",
    "\"10018\": \"Garment District / Midtown\",\n",
    "\"10019\": \"Hell's Kitchen / Midtown West\",\n",
    "\"10020\": \"Rockefeller Center\",\n",
    "\"10021\": \"Upper East Side\",\n",
    "\"10022\": \"Midtown East\",\n",
    "\"10023\": \"Upper West Side\",\n",
    "\"10024\": \"Upper West Side\",\n",
    "\"10025\": \"Morningside Heights / Upper West Side\",\n",
    "\"10026\": \"South Harlem\",\n",
    "\"10027\": \"Harlem\",\n",
    "\"10028\": \"Yorkville\",\n",
    "\"10029\": \"East Harlem\",\n",
    "\"10030\": \"Central Harlem\",\n",
    "\"10031\": \"Hamilton Heights\",\n",
    "\"10032\": \"Washington Heights (South)\",\n",
    "\"10033\": \"Washington Heights (North)\",\n",
    "\"10034\": \"Inwood\",\n",
    "\"10035\": \"East Harlem / Harlem River\",\n",
    "\"10036\": \"Times Square / Theater District\",\n",
    "\"10037\": \"Harlem (East)\",\n",
    "\"10038\": \"Seaport / Civic Center\",\n",
    "\"10039\": \"Harlem (North)\",\n",
    "\"10040\": \"Fort George / Washington Heights\",\n",
    "\"10128\": \"Carnegie Hill\",\n",
    "\"10280\": \"Battery Park City\",\n",
    "\"10282\": \"Battery Park City / Tribeca\",\n",
    "# Brooklyn\n",
    "\"11201\": \"Brooklyn Heights / Downtown\",\n",
    "\"11203\": \"East Flatbush\",\n",
    "\"11204\": \"Bensonhurst\",\n",
    "\"11205\": \"Clinton Hill / Fort Greene\",\n",
    "\"11206\": \"Williamsburg (South)\",\n",
    "\"11207\": \"East New York\",\n",
    "\"11208\": \"Cypress Hills / East New York\",\n",
    "\"11209\": \"Bay Ridge\",\n",
    "\"11210\": \"Flatbush\",\n",
    "\"11211\": \"Williamsburg (North)\",\n",
    "\"11212\": \"Brownsville\",\n",
    "\"11213\": \"Crown Heights (North)\",\n",
    "\"11214\": \"Bath Beach / Bensonhurst\",\n",
    "\"11215\": \"Park Slope\",\n",
    "\"11216\": \"Crown Heights (South)\",\n",
    "\"11217\": \"Boerum Hill / Gowanus\",\n",
    "\"11218\": \"Kensington\",\n",
    "\"11219\": \"Borough Park\",\n",
    "\"11220\": \"Sunset Park\",\n",
    "\"11221\": \"Bushwick (South)\",\n",
    "\"11222\": \"Greenpoint\",\n",
    "\"11223\": \"Gravesend\",\n",
    "\"11224\": \"Coney Island\",\n",
    "\"11225\": \"Prospect Lefferts Gardens\",\n",
    "\"11226\": \"Flatbush / Ditmas Park\",\n",
    "\"11228\": \"Dyker Heights\",\n",
    "\"11229\": \"Sheepshead Bay\",\n",
    "\"11230\": \"Midwood\",\n",
    "\"11231\": \"Carroll Gardens / Red Hook\",\n",
    "\"11232\": \"Sunset Park (West)\",\n",
    "\"11233\": \"Bedford-Stuyvesant (South)\",\n",
    "\"11234\": \"Mill Basin / Marine Park\",\n",
    "\"11235\": \"Brighton Beach / Manhattan Beach\",\n",
    "\"11236\": \"Canarsie\",\n",
    "\"11237\": \"Bushwick (North)\",\n",
    "\"11238\": \"Prospect Heights\",\n",
    "\"11239\": \"Spring Creek / East New York\",\n",
    "\"11249\": \"Williamsburg (Waterfront)\"\n",
    "}"
   ]
  },
  {
   "cell_type": "code",
   "execution_count": 109,
   "id": "813f3df8",
   "metadata": {},
   "outputs": [],
   "source": [
    "def get_neighbourhood_from_zip_code(zip):\n",
    "    try:\n",
    "        zip = int(zip)\n",
    "        for key, value in zip_neighborhood_dict.items():\n",
    "            if (zip == int(key)):\n",
    "                return value\n",
    "    except ValueError:\n",
    "        return None"
   ]
  },
  {
   "cell_type": "code",
   "execution_count": 231,
   "id": "3b29ee6c",
   "metadata": {},
   "outputs": [],
   "source": [
    "def get_price_interpretation(value, lower_threshold = 1.5, higher_threshold = 2):\n",
    "    if abs(value) > lower_threshold and abs(value) < higher_threshold:\n",
    "        return 'The price is not average'\n",
    "    elif abs(value) > higher_threshold:\n",
    "        return 'The price is beyond average'\n",
    "    else:\n",
    "        if value < 0 and abs(value) < 0.1:\n",
    "            return 'Average price'\n",
    "        elif value > 0 and value < 0.1:\n",
    "            return 'Average price'\n",
    "        elif value < 0:\n",
    "            return 'Lower price average'\n",
    "        elif value > 0:\n",
    "            return 'Higher price average'\n",
    "        else:\n",
    "            return 'NaN'"
   ]
  },
  {
   "cell_type": "code",
   "execution_count": 117,
   "id": "10c7eaa5",
   "metadata": {},
   "outputs": [],
   "source": [
    "def get_z_prices(dataframe):\n",
    "    analysis_df = dataframe[['id', 'neighbourhood_group','neighbourhood','host_name', 'host_id']].copy()\n",
    "    analysis_df['minimum_price'] = dataframe['price']*dataframe['minimum_nights']\n",
    "    analysis_df['z_value_prices'] = scaler.fit_transform(analysis_df[['minimum_price']])\n",
    "    analysis_df['z_value_prices'] = analysis_df['z_value_prices']\n",
    "    analysis_df = analysis_df[(analysis_df['z_value_prices'] >= -2) & (analysis_df['z_value_prices'] <= 2)]\n",
    "    #analysis_df['z_interpretation'] = analysis_df['z_value_prices'].apply(get_price_interpretation)\n",
    "    saturation_df = df.groupby(['neighbourhood_group']).agg({'id':'count'}).reset_index()\n",
    "    saturation_df['market_share'] = (saturation_df['id']/int(saturation_df['id'].sum()))*100\n",
    "    analysis_df = pd.merge(analysis_df, saturation_df, on=['neighbourhood_group'], how='left')\n",
    "    return analysis_df"
   ]
  },
  {
   "cell_type": "code",
   "execution_count": 115,
   "id": "06973517",
   "metadata": {},
   "outputs": [],
   "source": [
    "def get_clean_df(dataframe, city):\n",
    "    dataframe = dataframe[[dataframe.columns[-2],dataframe.columns[-3],dataframe.columns[10]]].copy()\n",
    "    dataframe['City'] = city\n",
    "    dataframe['Zip Code'] = dataframe['Zip Code'].astype('Int64')\n",
    "    dataframe['Neighbourhood'] = dataframe['Zip Code'].apply(get_neighbourhood_from_zip_code)\n",
    "    dataframe = dataframe.drop(['Zip Code'], axis=1)\n",
    "    dataframe = dataframe.loc[dataframe['Sale Price'] != 0]\n",
    "    dataframe['Sale Price'].dropna()\n",
    "    dataframe['Sale Price'].value_counts()\n",
    "    return dataframe"
   ]
  },
  {
   "cell_type": "code",
   "execution_count": 49,
   "id": "1ededeec",
   "metadata": {},
   "outputs": [],
   "source": [
    "def get_sale_price_interpretation(value, lower_threshold = 1.5, higher_threshold = 2):\n",
    "    if abs(value) > lower_threshold and abs(value) < higher_threshold:\n",
    "        return 'The price is not average'\n",
    "    elif abs(value) > higher_threshold:\n",
    "        return 'The price is beyond average'\n",
    "    else:\n",
    "        if value < 0 and abs(value) < 0.3:\n",
    "            return 'Average price'\n",
    "        elif value > 0 and value < 0.3:\n",
    "            return 'Average price'\n",
    "        elif value < 0:\n",
    "            return 'Lower price average'\n",
    "        elif value > 0:\n",
    "            return 'Higher price average'\n",
    "        else:\n",
    "            return 'NaN'"
   ]
  },
  {
   "cell_type": "code",
   "execution_count": 50,
   "id": "24396338",
   "metadata": {},
   "outputs": [],
   "source": [
    "def get_ny_z_prices(dataframe):\n",
    "    analysis_df = dataframe\n",
    "    analysis_df['z_value_prices'] = scaler.fit_transform(analysis_df[['Sale Price']])\n",
    "    analysis_df['z_value_prices'] = analysis_df['z_value_prices']\n",
    "    analysis_df = analysis_df[(analysis_df['z_value_prices'] >= -2) & (analysis_df['z_value_prices'] <= 2)]\n",
    "    #analysis_df['z_interpretation'] = analysis_df['z_value_prices'].apply(get_sale_price_interpretation)\n",
    "    return analysis_df"
   ]
  },
  {
   "cell_type": "code",
   "execution_count": 51,
   "id": "f2845c53",
   "metadata": {},
   "outputs": [],
   "source": [
    "def get_clean_new_york_df():\n",
    "    new_york_df = pd.concat([get_clean_df(manhattan_df,'manhattan'),get_clean_df(brooklyn_df,'brooklyn')])\n",
    "    new_york_df = get_ny_z_prices(new_york_df)\n",
    "    return new_york_df"
   ]
  },
  {
   "cell_type": "code",
   "execution_count": 67,
   "id": "69d294ff",
   "metadata": {},
   "outputs": [],
   "source": [
    "def main():\n",
    "    final_df = get_z_prices(df)\n",
    "    final_df.to_csv('NYC_Airbnb_2019.csv')\n",
    "    new_york_2019_df = get_clean_new_york_df()\n",
    "    new_york_2019_df.to_csv('NYC_Housing_2019.csv')"
   ]
  },
  {
   "cell_type": "code",
   "execution_count": 118,
   "id": "db51dade",
   "metadata": {},
   "outputs": [],
   "source": [
    "main()"
   ]
  }
 ],
 "metadata": {
  "kernelspec": {
   "display_name": "housing_analysis_env",
   "language": "python",
   "name": "python3"
  },
  "language_info": {
   "codemirror_mode": {
    "name": "ipython",
    "version": 3
   },
   "file_extension": ".py",
   "mimetype": "text/x-python",
   "name": "python",
   "nbconvert_exporter": "python",
   "pygments_lexer": "ipython3",
   "version": "3.12.7"
  }
 },
 "nbformat": 4,
 "nbformat_minor": 5
}
